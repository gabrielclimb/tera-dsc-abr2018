{
 "cells": [
  {
   "cell_type": "markdown",
   "metadata": {},
   "source": [
    "# Desafio (Parte 1) - Distribuição de Produtos por Usuário"
   ]
  },
  {
   "cell_type": "markdown",
   "metadata": {},
   "source": [
    "## Case baseado no desafio do Kaggle: \"Instacart Market Basket Analysis\"\n",
    "\n",
    "Esse desafio é baseado em uma competição do Kaggle ([https://www.kaggle.com](https://www.kaggle.com)) de 2017, onde é pedido para fazer a predição de se um produto será comprado por dado usuário no carrinho atual, baseado em suas compras anteriores.\n",
    "\n",
    "Não está no escopo da aula \n",
    "\n",
    "\n",
    "\n",
    "Link para o desafio: [https://www.kaggle.com/c/instacart-market-basket-analysis](https://www.kaggle.com/c/instacart-market-basket-analysis)\n",
    "\n",
    "## Origem dos Dados:\n",
    "\n",
    "Os dados mostrados nesse desafio são uma amostra extraída do dataset disponibilizado gratuitamente pela empresa Instacart ([https://www.instacart.com/](https://www.instacart.com/)) **\\***. São dados reais do banco de dados da empresa, que foram anonimizados para o uso por pesquisadores e em competições de Data Science.\n",
    "\n",
    " \n",
    "###### * “The Instacart Online Grocery Shopping Dataset 2017”, Accessed from [https://www.instacart.com/datasets/grocery-shopping-2017](https://www.instacart.com/datasets/grocery-shopping-2017) on March 10, 2017."
   ]
  },
  {
   "cell_type": "markdown",
   "metadata": {},
   "source": [
    "___"
   ]
  },
  {
   "cell_type": "markdown",
   "metadata": {},
   "source": [
    "# Imports"
   ]
  },
  {
   "cell_type": "code",
   "execution_count": 77,
   "metadata": {},
   "outputs": [],
   "source": [
    "import numpy as np\n",
    "import os\n",
    "import pandas as pd"
   ]
  },
  {
   "cell_type": "code",
   "execution_count": 78,
   "metadata": {},
   "outputs": [],
   "source": [
    "\"\"\" habilitando plots no notebook \"\"\"\n",
    "%matplotlib inline"
   ]
  },
  {
   "cell_type": "code",
   "execution_count": 79,
   "metadata": {},
   "outputs": [],
   "source": [
    "\"\"\" plot libs \"\"\"\n",
    "import matplotlib.pyplot as plt\n",
    "import seaborn as sns"
   ]
  },
  {
   "cell_type": "code",
   "execution_count": 80,
   "metadata": {},
   "outputs": [],
   "source": [
    "\"\"\" Configurando o Matplotlib para o modo manual \"\"\"\n",
    "plt.interactive(False)"
   ]
  },
  {
   "cell_type": "markdown",
   "metadata": {},
   "source": [
    "# Objetivo :\n",
    "\n",
    "Analisar o dataset (o mesmo construído na Aula 07) e responder às questões em cada item usando gráficos."
   ]
  },
  {
   "cell_type": "markdown",
   "metadata": {},
   "source": [
    "# Importante:\n",
    "\n",
    "Todos os gráficos devem conter:\n",
    "* Título\n",
    "* Rótulos do Eixo X e do Eixo Y\n",
    "\n",
    "Se mais de um gráfico for plotado em uma única janela, eles devem ter:\n",
    "* Cores diferentes\n",
    "* Legenda\n",
    "* Transparência (na sobreposição)"
   ]
  },
  {
   "cell_type": "markdown",
   "metadata": {},
   "source": [
    "# Dataset:\n",
    "\n",
    "O dataset utilizado nesse desafio é um sub-conjunto daquele construído na Aula 7. Para essa aula, será necessário carregar apenas duas colunas: `user_id` e `product_name`."
   ]
  },
  {
   "cell_type": "markdown",
   "metadata": {},
   "source": [
    "## Carregando os dados"
   ]
  },
  {
   "cell_type": "code",
   "execution_count": 81,
   "metadata": {},
   "outputs": [
    {
     "name": "stderr",
     "output_type": "stream",
     "text": [
      "/anaconda3/lib/python3.6/site-packages/numpy/lib/arraysetops.py:466: FutureWarning: elementwise comparison failed; returning scalar instead, but in the future will perform elementwise comparison\n",
      "  mask |= (ar1 == a)\n"
     ]
    }
   ],
   "source": [
    "\"\"\" Nota sobre o Warning: \n",
    "    O código abaixo levanta um Warning gerado por uma chamada interna do pandas conflitando com o Numpy.\n",
    "    Não há necessidade de tratar esse Warning no momento, o comportamento do 'read_csv' é funcional para o que queremos.\n",
    "\"\"\"\n",
    "dataset = pd.read_csv(\n",
    "    os.path.join(\"data\", \"dataset.csv\"),\n",
    "    usecols=[\"user_id\", \"product_name\"],\n",
    "    sep=\",\",\n",
    "    index_col=0,\n",
    "    encoding=\"utf-8\"\n",
    ")"
   ]
  },
  {
   "cell_type": "code",
   "execution_count": 82,
   "metadata": {},
   "outputs": [
    {
     "data": {
      "text/html": [
       "<div>\n",
       "<style scoped>\n",
       "    .dataframe tbody tr th:only-of-type {\n",
       "        vertical-align: middle;\n",
       "    }\n",
       "\n",
       "    .dataframe tbody tr th {\n",
       "        vertical-align: top;\n",
       "    }\n",
       "\n",
       "    .dataframe thead th {\n",
       "        text-align: right;\n",
       "    }\n",
       "</style>\n",
       "<table border=\"1\" class=\"dataframe\">\n",
       "  <thead>\n",
       "    <tr style=\"text-align: right;\">\n",
       "      <th></th>\n",
       "      <th>product_name</th>\n",
       "    </tr>\n",
       "    <tr>\n",
       "      <th>user_id</th>\n",
       "      <th></th>\n",
       "    </tr>\n",
       "  </thead>\n",
       "  <tbody>\n",
       "    <tr>\n",
       "      <th>1</th>\n",
       "      <td>Soda</td>\n",
       "    </tr>\n",
       "    <tr>\n",
       "      <th>1</th>\n",
       "      <td>Organic String Cheese</td>\n",
       "    </tr>\n",
       "    <tr>\n",
       "      <th>1</th>\n",
       "      <td>0% Greek Strained Yogurt</td>\n",
       "    </tr>\n",
       "    <tr>\n",
       "      <th>1</th>\n",
       "      <td>XL Pick-A-Size Paper Towel Rolls</td>\n",
       "    </tr>\n",
       "    <tr>\n",
       "      <th>1</th>\n",
       "      <td>Milk Chocolate Almonds</td>\n",
       "    </tr>\n",
       "  </tbody>\n",
       "</table>\n",
       "</div>"
      ],
      "text/plain": [
       "                             product_name\n",
       "user_id                                  \n",
       "1                                    Soda\n",
       "1                   Organic String Cheese\n",
       "1                0% Greek Strained Yogurt\n",
       "1        XL Pick-A-Size Paper Towel Rolls\n",
       "1                  Milk Chocolate Almonds"
      ]
     },
     "execution_count": 82,
     "metadata": {},
     "output_type": "execute_result"
    }
   ],
   "source": [
    "dataset.head()"
   ]
  },
  {
   "cell_type": "markdown",
   "metadata": {},
   "source": [
    "## Extração dos dados específicos"
   ]
  },
  {
   "cell_type": "code",
   "execution_count": 83,
   "metadata": {},
   "outputs": [],
   "source": [
    "product_count = dataset.groupby(\"user_id\").product_name.count()"
   ]
  },
  {
   "cell_type": "code",
   "execution_count": 84,
   "metadata": {},
   "outputs": [
    {
     "data": {
      "text/plain": [
       "count    114885.000000\n",
       "mean         10.568394\n",
       "std           7.946615\n",
       "min           1.000000\n",
       "25%           5.000000\n",
       "50%           9.000000\n",
       "75%          14.000000\n",
       "max          80.000000\n",
       "Name: product_name, dtype: float64"
      ]
     },
     "execution_count": 84,
     "metadata": {},
     "output_type": "execute_result"
    }
   ],
   "source": [
    "product_count.describe()"
   ]
  },
  {
   "cell_type": "code",
   "execution_count": 85,
   "metadata": {},
   "outputs": [
    {
     "data": {
      "text/plain": [
       "user_id\n",
       "1     11\n",
       "2     31\n",
       "5      9\n",
       "7      9\n",
       "8     18\n",
       "9     22\n",
       "10     4\n",
       "13     5\n",
       "14    11\n",
       "17     6\n",
       "Name: product_name, dtype: int64"
      ]
     },
     "execution_count": 85,
     "metadata": {},
     "output_type": "execute_result"
    }
   ],
   "source": [
    "product_count.head(10)"
   ]
  },
  {
   "cell_type": "markdown",
   "metadata": {},
   "source": [
    "# Problemas"
   ]
  },
  {
   "cell_type": "markdown",
   "metadata": {},
   "source": [
    "## A) Visualização da Distribuição Original\n",
    "\n",
    "Avalie a distribuição de dados do `Número de Produtos` por `Usuário`, respondendo a cada item. "
   ]
  },
  {
   "cell_type": "markdown",
   "metadata": {},
   "source": [
    "### A.1) Visualização\n",
    "\n",
    "Construa uma visualização composta que mostre a distribuição de dados e os outliers.\n",
    "\n",
    "Depois, responda às perguntas:\n",
    "* Qual o tipo dessa distribuição? \n",
    "* Existem Outliers? Descreva-os."
   ]
  },
  {
   "cell_type": "code",
   "execution_count": 91,
   "metadata": {},
   "outputs": [
    {
     "data": {
      "image/png": "[encoded data removed]",
      "text/plain": [
       "<matplotlib.figure.Figure at 0x1a14e6a588>"
      ]
     },
     "metadata": {},
     "output_type": "display_data"
    }
   ],
   "source": [
    "\"\"\" Escreva a a Solução Aqui \"\"\"    \n",
    "ax = product_count.hist(bins=30, normed=True, figsize=(12,8))\n",
    "ax.set_xlabel('Quantidade de Produtos')\n",
    "ax.set_ylabel('Quantidade de Usuários')\n",
    "ax.set_title('Distribuição de produtos por usuário')\n",
    "plt.show()"
   ]
  },
  {
   "cell_type": "code",
   "execution_count": 92,
   "metadata": {},
   "outputs": [
    {
     "data": {
      "image/png": "[encoded data removed]",
      "text/plain": [
       "<matplotlib.figure.Figure at 0x1a14ec6e80>"
      ]
     },
     "metadata": {},
     "output_type": "display_data"
    }
   ],
   "source": [
    "ax = product_count.plot(kind='box', vert=False, figsize=(12,8))\n",
    "ax.set_xlabel('Quantidade de Produtos')\n",
    "# ax.set_ylabel('Quantidade de Usuários')\n",
    "ax.set_title('Distribuição de produtos por usuário')\n",
    "plt.show()"
   ]
  },
  {
   "cell_type": "code",
   "execution_count": 93,
   "metadata": {},
   "outputs": [
    {
     "data": {
      "image/png": "[encoded data removed]",
      "text/plain": [
       "<matplotlib.figure.Figure at 0x1a14eecd30>"
      ]
     },
     "metadata": {},
     "output_type": "display_data"
    }
   ],
   "source": [
    "plt.figure(figsize=(15,10))\n",
    "plt.boxplot(product_count, vert=False)\n",
    "plt.xlabel('Quantidade')\n",
    "plt.show()"
   ]
  },
  {
   "cell_type": "code",
   "execution_count": 94,
   "metadata": {},
   "outputs": [
    {
     "data": {
      "text/plain": [
       "<matplotlib.figure.Figure at 0x1a1efafe80>"
      ]
     },
     "metadata": {},
     "output_type": "display_data"
    },
    {
     "data": {
      "image/png": "[encoded data removed]",
      "text/plain": [
       "<matplotlib.figure.Figure at 0x1a16376978>"
      ]
     },
     "metadata": {},
     "output_type": "display_data"
    }
   ],
   "source": [
    "fig = plt.figure(figsize=(12,8))\n",
    "f, axes = plt.subplots(2,1, figsize=(15,8), sharex=True, gridspec_kw={'height_ratios':[4,1]})\n",
    "\n",
    "product_count.hist(bins=30, normed=True, ax=axes[0])\n",
    "product_count.plot(kind='box', vert=False, figsize=(15,8), ax=axes[1])\n",
    "\n",
    "    \n",
    "\n",
    "# ax.set_xlabel('Quantidade de Produtos')\n",
    "# ax.set_ylabel('Quantidade de Usuários')\n",
    "# ax.set_title('Distribuição de produtos por usuário')\n",
    "plt.show()"
   ]
  },
  {
   "cell_type": "markdown",
   "metadata": {},
   "source": [
    "### A.2) Cortes\n",
    "\n",
    "Proponha cortes de usuários de forma que não se percam muitos dados e que a distribuição seja mantida. \n",
    "\n",
    "Adicione os cortes à visualização usando `segmentos pontilhados de reta` e `textos com os valores dos cortes`."
   ]
  },
  {
   "cell_type": "code",
   "execution_count": 111,
   "metadata": {},
   "outputs": [
    {
     "data": {
      "image/png": "[encoded data removed]",
      "text/plain": [
       "<matplotlib.figure.Figure at 0x1a22e1f470>"
      ]
     },
     "metadata": {},
     "output_type": "display_data"
    }
   ],
   "source": [
    "\"\"\" Escreva a a Solução Aqui \"\"\"\n",
    "_, axes = plt.subplots(\n",
    "    2, 1, \n",
    "    figsize=(15, 8), \n",
    "    sharex=True,     \n",
    "    gridspec_kw={\"height_ratios\": [4, 1]}\n",
    ")\n",
    "\n",
    "product_count.hist(bins=30, normed=False, ax=axes[0])\n",
    "product_count.plot(kind=\"box\", vert=False, ax=axes[1])\n",
    "\n",
    "axes[0].text(28.7, 11000, s=\"(27.5, 11000)\")\n",
    "axes[0].text(28, 10000, s=\"corte de outliers\")\n",
    "axes[0].set_ylim(0, 23000)\n",
    "axes[0].set_ylabel(\"Quantidade de Usuários\")\n",
    "axes[0].set_title(\"Distribuição de Produtos por Usuários\")\n",
    "axes[0].plot([27.5, 27.5], [0, 23000], \"k--\")\n",
    "\n",
    "axes[1].set_xlabel(\"Quantidade de Produtos\")\n",
    "axes[1].plot([27.5, 27.5], [0, 23000], \"k--\")\n",
    "\n",
    "plt.show()"
   ]
  },
  {
   "cell_type": "markdown",
   "metadata": {},
   "source": [
    "### A.3) Nova Distribuição\n",
    "\n",
    "Elimine os outliers e construa outro plot da nova distribuição."
   ]
  },
  {
   "cell_type": "code",
   "execution_count": 117,
   "metadata": {},
   "outputs": [
    {
     "data": {
      "text/plain": [
       "<matplotlib.figure.Figure at 0x1a1528ee48>"
      ]
     },
     "metadata": {},
     "output_type": "display_data"
    },
    {
     "data": {
      "image/png": "[encoded data removed]",
      "text/plain": [
       "<matplotlib.figure.Figure at 0x1a22dfd668>"
      ]
     },
     "metadata": {},
     "output_type": "display_data"
    }
   ],
   "source": [
    "\"\"\" Escreva a a Solução Aqui \"\"\" \n",
    "q1, q3 = product_count.describe()[['25%', '75%']]\n",
    "iqr = q3 - q1\n",
    "l_sup = q3 + 1.5 * iqr\n",
    "l_inf = q1 - 1.5 * iqr\n",
    "\n",
    "fig = plt.figure(figsize=(12,8))\n",
    "f, axes = plt.subplots(2,1, figsize=(15,8), sharex=True, gridspec_kw={'height_ratios':[4,1]})\n",
    "\n",
    "product_count2 = product_count[product_count < l_sup]\n",
    "\n",
    "product_count2.hist(bins=10, normed=False, ax=axes[0])\n",
    "product_count2.plot(kind='box', vert=False, figsize=(15,8), ax=axes[1])\n",
    "\n",
    "plt.show()"
   ]
  },
  {
   "cell_type": "code",
   "execution_count": 116,
   "metadata": {},
   "outputs": [
    {
     "data": {
      "image/png": "[encoded data removed]",
      "text/plain": [
       "<matplotlib.figure.Figure at 0x1a130e0f60>"
      ]
     },
     "metadata": {},
     "output_type": "display_data"
    }
   ],
   "source": [
    "product_count_cut = product_count[product_count <= 27.5]\n",
    "\n",
    "_, axes = plt.subplots(\n",
    "    2, 1, \n",
    "    figsize=(15, 8), \n",
    "    sharex=True,     \n",
    "    gridspec_kw={\"height_ratios\": [4, 1]}\n",
    ")\n",
    "\n",
    "product_count_cut.hist(bins=10, normed=False, ax=axes[0])\n",
    "product_count_cut.plot(kind=\"box\", vert=False, ax=axes[1])\n",
    "\n",
    "axes[1].set_xlim(0, 83)\n",
    "\n",
    "axes[1].set_xlabel(\"Quantidade de Produtos\")\n",
    "axes[0].set_ylabel(\"Quantidade de Usuários\")\n",
    "axes[0].set_title(\"Distribuição de Produtos por Usuários\")\n",
    "\n",
    "plt.show()"
   ]
  },
  {
   "cell_type": "markdown",
   "metadata": {},
   "source": [
    "## B) Visualização da Distribuição Transformada\n",
    "\n",
    "Uma técnica que é muito usada para compreender melhor dados de uma distribuição como essa é  a aplicação do `logaritmo` aos dados originais. Para saber mais sobre essa função matemática, consulte [esta referência](https://pt.wikibooks.org/wiki/Matem%C3%A1tica_elementar/Logaritmos).\n",
    "\n",
    "Aplique o `logaritmo de base 10` à massa de dados e responda aos itens:\n",
    "\n",
    "B.1) Construa uma visualização composta que mostre a distribuição de dados e os outliers.\n",
    "\n",
    "B.2) Responda às perguntas:\n",
    "* Qual o tipo dessa distribuição? \n",
    "* Existem Outliers? Descreva-os.\n",
    "\n",
    "B.3) Proponha cortes de usuários de forma que não se percam muitos dados e que a distribuição seja mantida. Adicione os cortes à visualização usando `segmentos pontilhados de reta` e `textos com os valores dos cortes`.\n",
    "\n",
    "B.4) Elimine os outliers e construa outro plot da nova distribuição."
   ]
  },
  {
   "cell_type": "markdown",
   "metadata": {},
   "source": [
    "### Transformação dos dados"
   ]
  },
  {
   "cell_type": "code",
   "execution_count": null,
   "metadata": {
    "collapsed": true
   },
   "outputs": [],
   "source": [
    "product_count_log = product_count.map(np.log10)"
   ]
  },
  {
   "cell_type": "code",
   "execution_count": null,
   "metadata": {
    "collapsed": true
   },
   "outputs": [],
   "source": [
    "product_count_log.describe()"
   ]
  },
  {
   "cell_type": "code",
   "execution_count": null,
   "metadata": {
    "collapsed": true
   },
   "outputs": [],
   "source": [
    "product_count_log.head()"
   ]
  },
  {
   "cell_type": "markdown",
   "metadata": {},
   "source": [
    "### B.1) Visualização\n",
    "\n",
    "Construa uma visualização composta que mostre a distribuição de dados e os outliers.\n",
    "\n",
    "Depois, responda às perguntas:\n",
    "* Qual o tipo dessa distribuição? \n",
    "* Existem Outliers? Descreva-os."
   ]
  },
  {
   "cell_type": "code",
   "execution_count": null,
   "metadata": {
    "collapsed": true
   },
   "outputs": [],
   "source": [
    "\"\"\" Escreva a a Solução Aqui \"\"\"    "
   ]
  },
  {
   "cell_type": "markdown",
   "metadata": {},
   "source": [
    "### B.2) Cortes\n",
    "\n",
    "Proponha cortes de usuários de forma que não se percam muitos dados e que a distribuição seja mantida. \n",
    "\n",
    "Adicione os cortes à visualização usando `segmentos pontilhados de reta` e `textos com os valores dos cortes`."
   ]
  },
  {
   "cell_type": "code",
   "execution_count": null,
   "metadata": {
    "collapsed": true
   },
   "outputs": [],
   "source": [
    "\"\"\" Escreva a a Solução Aqui \"\"\"    "
   ]
  },
  {
   "cell_type": "markdown",
   "metadata": {},
   "source": [
    "### B.3) Nova Distribuição\n",
    "\n",
    "Elimine os outliers e construa outro plot da nova distribuição."
   ]
  },
  {
   "cell_type": "code",
   "execution_count": null,
   "metadata": {
    "collapsed": true
   },
   "outputs": [],
   "source": [
    "\"\"\" Escreva a a Solução Aqui \"\"\"    "
   ]
  }
 ],
 "metadata": {
  "kernelspec": {
   "display_name": "Python 3",
   "language": "python",
   "name": "python3"
  },
  "language_info": {
   "codemirror_mode": {
    "name": "ipython",
    "version": 3
   },
   "file_extension": ".py",
   "mimetype": "text/x-python",
   "name": "python",
   "nbconvert_exporter": "python",
   "pygments_lexer": "ipython3",
   "version": "3.6.4"
  }
 },
 "nbformat": 4,
 "nbformat_minor": 2
}
