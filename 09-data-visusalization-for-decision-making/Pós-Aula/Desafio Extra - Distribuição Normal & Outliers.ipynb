{
 "cells": [
  {
   "cell_type": "markdown",
   "metadata": {},
   "source": [
    "# Desafio Extra - Distribuição Normal & Outliers"
   ]
  },
  {
   "cell_type": "markdown",
   "metadata": {},
   "source": [
    "___"
   ]
  },
  {
   "cell_type": "markdown",
   "metadata": {},
   "source": [
    "# Imports"
   ]
  },
  {
   "cell_type": "code",
   "execution_count": null,
   "metadata": {},
   "outputs": [],
   "source": [
    "import numpy as np\n",
    "import os\n",
    "import pandas as pd"
   ]
  },
  {
   "cell_type": "code",
   "execution_count": null,
   "metadata": {},
   "outputs": [],
   "source": [
    "\"\"\" habilitando plots no notebook \"\"\"\n",
    "%matplotlib inline"
   ]
  },
  {
   "cell_type": "code",
   "execution_count": null,
   "metadata": {},
   "outputs": [],
   "source": [
    "\"\"\" plot libs \"\"\"\n",
    "import matplotlib.pyplot as plt\n",
    "import seaborn as sns"
   ]
  },
  {
   "cell_type": "code",
   "execution_count": null,
   "metadata": {},
   "outputs": [],
   "source": [
    "\"\"\" Configurando o Matplotlib para o modo manual \"\"\"\n",
    "plt.interactive(False)"
   ]
  },
  {
   "cell_type": "markdown",
   "metadata": {},
   "source": [
    "# Objetivo:\n",
    "\n",
    "Visualizar uma Distribuição Normal usando Histogramas e Box Plot.\n"
   ]
  },
  {
   "cell_type": "markdown",
   "metadata": {},
   "source": [
    "# Dataset:"
   ]
  },
  {
   "cell_type": "code",
   "execution_count": null,
   "metadata": {},
   "outputs": [],
   "source": [
    "np.random.seed(123456789)\n",
    "serie_original = pd.Series(np.random.randn(900)) * 32 + 230 \n",
    "outliers = pd.Series(np.random.randn(100)) * 320 + 230 "
   ]
  },
  {
   "cell_type": "markdown",
   "metadata": {},
   "source": [
    "# Instruções\n",
    "\n",
    "Para cada item abaixo, "
   ]
  },
  {
   "cell_type": "markdown",
   "metadata": {},
   "source": [
    "## A) Visualizando a Série Original\n",
    "\n",
    "Usar Histograma e Box Plot para visualizar:\n",
    "* a **Série Original**\n",
    "* os **Outliers**\n",
    "* a **Série Original** e os **Outliers** na mesma janela"
   ]
  },
  {
   "cell_type": "markdown",
   "metadata": {},
   "source": [
    "### Gabarito\n",
    "\n",
    "![](images/pdf_a_1.png)"
   ]
  },
  {
   "cell_type": "markdown",
   "metadata": {},
   "source": [
    "### Solução"
   ]
  },
  {
   "cell_type": "code",
   "execution_count": null,
   "metadata": {},
   "outputs": [],
   "source": [
    "\"\"\" Escreva a a Solução Aqui \"\"\"    "
   ]
  },
  {
   "cell_type": "markdown",
   "metadata": {},
   "source": [
    "## B) Exploração de Cortes\n",
    "\n",
    "Juntar a **Série Original** com os **Outliers** para criar uma **Série Contaminada**. Visualizar a nova série.\n",
    "\n",
    "Depois, propor cortes na série para eliminar os outliers sem perder muitos dados de dentro da distribuição.\n",
    "\n",
    "Em cada corte executado, visualizar a distribuição e as medidas de constrole da distribuição."
   ]
  },
  {
   "cell_type": "code",
   "execution_count": null,
   "metadata": {},
   "outputs": [],
   "source": [
    "\"\"\" Escreva a a Solução Aqui \"\"\"    "
   ]
  },
  {
   "cell_type": "markdown",
   "metadata": {},
   "source": [
    "## C) Criando uma Visualização Composta\n",
    "\n",
    "Usando a **Série Corrigida**, i.e. com os outliers eliminados, criar um plot de duas janelas empilhadas na vertical.\n",
    "\n",
    "As janelas do plot devem ser da seguinte forma:\n",
    "\n",
    "* A janela de cima é um **Box Plot horizontal**\n",
    "* A Janela de baixo é um **histograma**\n",
    "\n",
    "As duas janelas devem compartilhar o eixo horixontal, de forma que os atributos da distribuição estejam alinhados.\n",
    "\n",
    "Dica para uma melhor visualização: use o parâmetro `gridspec_kw = {\"height_ratios\": [1, 4]}` na função de `subplots` para definir a altura relativa da janela superior (`1`) e da janela inferior (`4`).\n"
   ]
  },
  {
   "cell_type": "code",
   "execution_count": null,
   "metadata": {},
   "outputs": [],
   "source": [
    "\"\"\" Escreva a a Solução Aqui \"\"\"    "
   ]
  }
 ],
 "metadata": {
  "kernelspec": {
   "display_name": "Python 3",
   "language": "python",
   "name": "python3"
  },
  "language_info": {
   "codemirror_mode": {
    "name": "ipython",
    "version": 3
   },
   "file_extension": ".py",
   "mimetype": "text/x-python",
   "name": "python",
   "nbconvert_exporter": "python",
   "pygments_lexer": "ipython3",
   "version": "3.6.4"
  }
 },
 "nbformat": 4,
 "nbformat_minor": 2
}
