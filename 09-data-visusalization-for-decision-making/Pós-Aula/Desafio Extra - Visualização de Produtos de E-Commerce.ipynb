{
 "cells": [
  {
   "cell_type": "markdown",
   "metadata": {},
   "source": [
    "# Desafio Extra - Visualização de Produtos de E-Commerce"
   ]
  },
  {
   "cell_type": "markdown",
   "metadata": {},
   "source": [
    "___"
   ]
  },
  {
   "cell_type": "markdown",
   "metadata": {},
   "source": [
    "# Imports"
   ]
  },
  {
   "cell_type": "code",
   "execution_count": null,
   "metadata": {},
   "outputs": [],
   "source": [
    "import numpy as np\n",
    "import os\n",
    "import pandas as pd"
   ]
  },
  {
   "cell_type": "code",
   "execution_count": null,
   "metadata": {},
   "outputs": [],
   "source": [
    "\"\"\" habilitando plots no notebook \"\"\"\n",
    "%matplotlib inline"
   ]
  },
  {
   "cell_type": "code",
   "execution_count": null,
   "metadata": {},
   "outputs": [],
   "source": [
    "\"\"\" plot libs \"\"\"\n",
    "import matplotlib.pyplot as plt\n",
    "import seaborn as sns"
   ]
  },
  {
   "cell_type": "code",
   "execution_count": null,
   "metadata": {},
   "outputs": [],
   "source": [
    "\"\"\" Configurando o Matplotlib para o modo manual \"\"\"\n",
    "plt.interactive(False)"
   ]
  },
  {
   "cell_type": "markdown",
   "metadata": {},
   "source": [
    "# Objetivo:\n",
    "\n",
    "Visualizar dados de um problema de classificação de produtos de e-commerce projetados em 2D.\n",
    "\n",
    "Esses são dado reais de uma pesquisa que fiz durante meu tempo trabalhando com e-commerce. Cada coordenada é um **word embedding** de duas dimensões que é a representação matemática vetorial da string de **nome de produto** de um dos produtos processados. Cada **label** representa a categoria do produto, marcada manualmente por funcionários da empresa.\n",
    "\n",
    "A metodologia da extração de uma representação vetorial de strings não entra no escopo dessa aula, os valores já estão dados no arquivo `data/produtos_ecommerce.csv`. Para saber mais sobre o assunto, os links a seguir são uma boa fonte inicial de informações.\n",
    "\n",
    "- [Word Embedding](https://en.wikipedia.org/wiki/Word_embedding)\n",
    "- [word2vec](https://en.wikipedia.org/wiki/Word2vec)\n",
    "- [T-SNE](https://distill.pub/2016/misread-tsne/)\n"
   ]
  },
  {
   "cell_type": "markdown",
   "metadata": {},
   "source": [
    "# Dataset:"
   ]
  },
  {
   "cell_type": "code",
   "execution_count": null,
   "metadata": {},
   "outputs": [],
   "source": [
    "\"\"\" Tamanho do Dataset \"\"\"\n",
    "df = pd.read_csv(\n",
    "    os.path.join(\"data\", \"produtos_ecommerce.csv\"),\n",
    "    sep=\"\\t\",\n",
    "    encoding=\"utf-8\"    \n",
    ")\n",
    "df[[\"coord_x\", \"coord_y\"]] = df[[\"coord_x\", \"coord_y\"]].astype(float)\n",
    "df.head()"
   ]
  },
  {
   "cell_type": "code",
   "execution_count": null,
   "metadata": {},
   "outputs": [],
   "source": [
    "\"\"\" Tamanho da tabela \"\"\"\n",
    "df.shape"
   ]
  },
  {
   "cell_type": "code",
   "execution_count": null,
   "metadata": {},
   "outputs": [],
   "source": [
    "\"\"\" Contagem de Produtos por Categoria\"\"\"\n",
    "df.label.value_counts()"
   ]
  },
  {
   "cell_type": "markdown",
   "metadata": {},
   "source": [
    "# Instruções\n",
    "\n",
    "Para cada item abaixo, siga as instruções e obtenha uma figura similar à do gabarito."
   ]
  },
  {
   "cell_type": "markdown",
   "metadata": {},
   "source": [
    "## A) Visualizar Todo o Dataset\n",
    "\n",
    "Plotar todos os produtos usando as coordenadas **coord_x** e **coord_y**. \n",
    "\n",
    "Cada **categoria** deve ser representada por uma **cor diferente**.\n",
    "\n",
    "A figura deve ter uma **legenda** mostrando as categorias e suas cores."
   ]
  },
  {
   "cell_type": "markdown",
   "metadata": {},
   "source": [
    "### Gabarito\n",
    "\n",
    "![](images/tsne_a.png)"
   ]
  },
  {
   "cell_type": "markdown",
   "metadata": {},
   "source": [
    "### Solução"
   ]
  },
  {
   "cell_type": "code",
   "execution_count": null,
   "metadata": {},
   "outputs": [],
   "source": [
    "\"\"\" Escreva a a Solução Aqui \"\"\"    "
   ]
  },
  {
   "cell_type": "markdown",
   "metadata": {},
   "source": [
    "## B) Visualizar uma amostra com o texto\n",
    "\n",
    "Plotar **duas categorias**, apenas 10 produtos de cada, usando o campo **product** para plotar também o texto.\n",
    "\n",
    "A figura deve manter a **legenda** mostrando apenas as duas categorias e suas cores."
   ]
  },
  {
   "cell_type": "markdown",
   "metadata": {},
   "source": [
    "### Gabarito\n",
    "\n",
    "![](images/tsne_b.png)"
   ]
  },
  {
   "cell_type": "markdown",
   "metadata": {},
   "source": [
    "### Solução"
   ]
  },
  {
   "cell_type": "code",
   "execution_count": null,
   "metadata": {},
   "outputs": [],
   "source": [
    "\"\"\" Escreva a a Solução Aqui \"\"\"    "
   ]
  }
 ],
 "metadata": {
  "kernelspec": {
   "display_name": "Python 3",
   "language": "python",
   "name": "python3"
  },
  "language_info": {
   "codemirror_mode": {
    "name": "ipython",
    "version": 3
   },
   "file_extension": ".py",
   "mimetype": "text/x-python",
   "name": "python",
   "nbconvert_exporter": "python",
   "pygments_lexer": "ipython3",
   "version": "3.6.4"
  }
 },
 "nbformat": 4,
 "nbformat_minor": 2
}
