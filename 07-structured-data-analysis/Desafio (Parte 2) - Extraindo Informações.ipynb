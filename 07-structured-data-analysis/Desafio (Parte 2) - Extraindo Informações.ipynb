{
 "cells": [
  {
   "cell_type": "markdown",
   "metadata": {},
   "source": [
    "# Desafio (Parte 2) - Extraindo Informações"
   ]
  },
  {
   "cell_type": "markdown",
   "metadata": {},
   "source": [
    "## Case baseado no desafio do Kaggle: \"Instacart Market Basket Analysis\"\n",
    "\n",
    "Esse desafio é baseado em uma competição do Kaggle ([https://www.kaggle.com](https://www.kaggle.com)) de 2017, onde é pedido para fazer a predição de se um produto será comprado por dado usuário no carrinho atual, baseado em suas compras anteriores.\n",
    "\n",
    "Não está no escopo da aula \n",
    "\n",
    "\n",
    "\n",
    "Link para o desafio: [https://www.kaggle.com/c/instacart-market-basket-analysis](https://www.kaggle.com/c/instacart-market-basket-analysis)\n",
    "\n",
    "## Origem dos Dados:\n",
    "\n",
    "Os dados mostrados nesse desafio são uma amostra extraída do dataset disponibilizado gratuitamente pela empresa Instacart ([https://www.instacart.com/](https://www.instacart.com/)) **\\***. São dados reais do banco de dados da empresa, que foram anonimizados para o uso por pesquisadores e em competições de Data Science.\n",
    "\n",
    " \n",
    "###### * “The Instacart Online Grocery Shopping Dataset 2017”, Accessed from [https://www.instacart.com/datasets/grocery-shopping-2017](https://www.instacart.com/datasets/grocery-shopping-2017) on March 10, 2017.\n",
    "\n",
    "## Tabelas e Colunas Importantes\n",
    "\n",
    "As Tabelas e suas respectivas colunas estão mostradas abaixo, junto com a descrição do significado de cada coluna:\n",
    "\n",
    "* Colunas da Tabela `orders`:\n",
    "\n",
    "    * ´order_id´: order identifier\n",
    "    * ´user_id´: customer identifier\n",
    "    * ´eval_set´: which evaluation set this order belongs in (see SET described below)\n",
    "    * ´order_number´: the order sequence number for this user (1 = first, n = nth)\n",
    "    * ´order_dow´: the day of the week the order was placed on\n",
    "    * ´order_hour_of_day´: the hour of the day the order was placed on\n",
    "    * ´days_since_prior´: days since the last order, capped at 30 (with NAs for order_number = 1)\n",
    "    \n",
    "* Colunas da Tabela `products (50k rows):\n",
    "\n",
    "    * ´product_id´: product identifier\n",
    "    * ´product_name´: name of the product\n",
    "    * ´aisle_id´: foreign key\n",
    "    * ´department_id´: foreign key\n",
    "\n",
    "* Colunas da Tabela `aisles (134 rows):\n",
    "\n",
    "    * ´aisle_id´: aisle identifier\n",
    "    * ´aisle´: the name of the aisle\n",
    "\n",
    "* Colunas da Tabela `deptartments (21 rows):\n",
    "\n",
    "    * ´department_id´: department identifier\n",
    "    * ´department´: the name of the department\n",
    "\n",
    "* Colunas da Tabela `order_products__SET (30m+ rows):\n",
    "\n",
    "    * ´order_id´: foreign key\n",
    "    * ´product_id´: foreign key\n",
    "    * ´add_to_cart_order´: order in which each product was added to cart\n",
    "    * ´reordered´: 1 if this product has been ordered by this user in the past, 0 otherwise"
   ]
  },
  {
   "cell_type": "markdown",
   "metadata": {},
   "source": [
    "___"
   ]
  },
  {
   "cell_type": "markdown",
   "metadata": {},
   "source": [
    "# Import"
   ]
  },
  {
   "cell_type": "code",
<<<<<<< HEAD
   "execution_count": 2,
   "metadata": {},
=======
   "execution_count": 1,
   "metadata": {
    "collapsed": true
   },
>>>>>>> 03787fc04664ca64bd18cb24df57de8c5f36ca9a
   "outputs": [],
   "source": [
    "import numpy as np\n",
    "import os\n",
    "import pandas as pd"
   ]
  },
  {
   "cell_type": "code",
   "execution_count": 32,
   "metadata": {},
   "outputs": [
    {
     "data": {
      "text/plain": [
       "'/Users/gabrielsoares/Dropbox/Tera/tera-dsc-abr2018/07-structured-data-analysis'"
      ]
     },
     "execution_count": 32,
     "metadata": {},
     "output_type": "execute_result"
    }
   ],
   "source": [
    "os.getcwd()"
   ]
  },
  {
   "cell_type": "markdown",
   "metadata": {},
   "source": [
    "# Objetivo:\n",
    "\n",
    "Analisar o dataset gerado na Seção 3 e responder às questões."
   ]
  },
  {
   "cell_type": "markdown",
   "metadata": {},
   "source": [
    "# Dataset"
   ]
  },
  {
   "cell_type": "code",
<<<<<<< HEAD
   "execution_count": 14,
=======
   "execution_count": 2,
>>>>>>> 03787fc04664ca64bd18cb24df57de8c5f36ca9a
   "metadata": {},
   "outputs": [],
   "source": [
    "file_name = os.path.join(\"data\", \"dataset.csv\")"
   ]
  },
  {
   "cell_type": "code",
<<<<<<< HEAD
   "execution_count": 15,
=======
   "execution_count": 3,
>>>>>>> 03787fc04664ca64bd18cb24df57de8c5f36ca9a
   "metadata": {},
   "outputs": [
    {
     "name": "stderr",
     "output_type": "stream",
     "text": [
<<<<<<< HEAD
      "/anaconda3/lib/python3.6/site-packages/numpy/lib/arraysetops.py:466: FutureWarning: elementwise comparison failed; returning scalar instead, but in the future will perform elementwise comparison\n",
=======
      "C:\\Users\\allan\\Anaconda3\\lib\\site-packages\\numpy\\lib\\arraysetops.py:463: FutureWarning: elementwise comparison failed; returning scalar instead, but in the future will perform elementwise comparison\n",
>>>>>>> 03787fc04664ca64bd18cb24df57de8c5f36ca9a
      "  mask |= (ar1 == a)\n"
     ]
    }
   ],
   "source": [
    "dataset = pd.read_csv(file_name, sep=\",\", index_col=0, encoding=\"utf-8\")"
   ]
  },
  {
   "cell_type": "code",
<<<<<<< HEAD
   "execution_count": 16,
   "metadata": {},
=======
   "execution_count": 4,
   "metadata": {},
   "outputs": [
    {
     "data": {
      "text/html": [
       "<div>\n",
       "<style>\n",
       "    .dataframe thead tr:only-child th {\n",
       "        text-align: right;\n",
       "    }\n",
       "\n",
       "    .dataframe thead th {\n",
       "        text-align: left;\n",
       "    }\n",
       "\n",
       "    .dataframe tbody tr th {\n",
       "        vertical-align: top;\n",
       "    }\n",
       "</style>\n",
       "<table border=\"1\" class=\"dataframe\">\n",
       "  <thead>\n",
       "    <tr style=\"text-align: right;\">\n",
       "      <th></th>\n",
       "      <th>order_id</th>\n",
       "      <th>user_id</th>\n",
       "      <th>order_dow</th>\n",
       "      <th>product_name</th>\n",
       "      <th>aisle</th>\n",
       "      <th>department</th>\n",
       "    </tr>\n",
       "  </thead>\n",
       "  <tbody>\n",
       "    <tr>\n",
       "      <th>0</th>\n",
       "      <td>1187899</td>\n",
       "      <td>1</td>\n",
       "      <td>4</td>\n",
       "      <td>Soda</td>\n",
       "      <td>soft drinks</td>\n",
       "      <td>beverages</td>\n",
       "    </tr>\n",
       "    <tr>\n",
       "      <th>1</th>\n",
       "      <td>2757217</td>\n",
       "      <td>67</td>\n",
       "      <td>0</td>\n",
       "      <td>Soda</td>\n",
       "      <td>soft drinks</td>\n",
       "      <td>beverages</td>\n",
       "    </tr>\n",
       "    <tr>\n",
       "      <th>2</th>\n",
       "      <td>632715</td>\n",
       "      <td>676</td>\n",
       "      <td>0</td>\n",
       "      <td>Soda</td>\n",
       "      <td>soft drinks</td>\n",
       "      <td>beverages</td>\n",
       "    </tr>\n",
       "    <tr>\n",
       "      <th>3</th>\n",
       "      <td>1167274</td>\n",
       "      <td>760</td>\n",
       "      <td>4</td>\n",
       "      <td>Soda</td>\n",
       "      <td>soft drinks</td>\n",
       "      <td>beverages</td>\n",
       "    </tr>\n",
       "    <tr>\n",
       "      <th>4</th>\n",
       "      <td>3347074</td>\n",
       "      <td>804</td>\n",
       "      <td>3</td>\n",
       "      <td>Soda</td>\n",
       "      <td>soft drinks</td>\n",
       "      <td>beverages</td>\n",
       "    </tr>\n",
       "  </tbody>\n",
       "</table>\n",
       "</div>"
      ],
      "text/plain": [
       "   order_id  user_id  order_dow product_name        aisle department\n",
       "0   1187899        1          4         Soda  soft drinks  beverages\n",
       "1   2757217       67          0         Soda  soft drinks  beverages\n",
       "2    632715      676          0         Soda  soft drinks  beverages\n",
       "3   1167274      760          4         Soda  soft drinks  beverages\n",
       "4   3347074      804          3         Soda  soft drinks  beverages"
      ]
     },
     "execution_count": 4,
     "metadata": {},
     "output_type": "execute_result"
    }
   ],
   "source": [
    "dataset.head()"
   ]
  },
  {
   "cell_type": "code",
   "execution_count": 5,
   "metadata": {
    "collapsed": true
   },
>>>>>>> 03787fc04664ca64bd18cb24df57de8c5f36ca9a
   "outputs": [],
   "source": [
    "\"\"\" Facilitando a vida \"\"\"\n",
    "# baseado em uma thread do Kaggle sobre esse desafio, os dias da semana são definidos na seguinte ordem:\n",
    "week_days = [\"saturday\", \"sunday\", \"monday\", \"tuesday\", \"wednesday\", \"thursday\", \"friday\"]\n",
    "\n",
    "# traduzindo no dataset\n",
    "dataset.order_dow = dataset.order_dow.map(lambda wd: week_days[wd])"
   ]
  },
  {
   "cell_type": "code",
<<<<<<< HEAD
   "execution_count": 17,
   "metadata": {},
   "outputs": [
    {
     "data": {
      "text/plain": [
       "'ahuahua/ajaua'"
      ]
     },
     "execution_count": 17,
     "metadata": {},
     "output_type": "execute_result"
    }
   ],
   "source": [
    "os.path.join('ahuahua','ajaua')"
   ]
  },
  {
   "cell_type": "code",
   "execution_count": 18,
=======
   "execution_count": 6,
>>>>>>> 03787fc04664ca64bd18cb24df57de8c5f36ca9a
   "metadata": {},
   "outputs": [
    {
     "data": {
      "text/html": [
       "<div>\n",
<<<<<<< HEAD
       "<style scoped>\n",
       "    .dataframe tbody tr th:only-of-type {\n",
       "        vertical-align: middle;\n",
       "    }\n",
       "\n",
       "    .dataframe tbody tr th {\n",
       "        vertical-align: top;\n",
       "    }\n",
       "\n",
       "    .dataframe thead th {\n",
       "        text-align: right;\n",
=======
       "<style>\n",
       "    .dataframe thead tr:only-child th {\n",
       "        text-align: right;\n",
       "    }\n",
       "\n",
       "    .dataframe thead th {\n",
       "        text-align: left;\n",
       "    }\n",
       "\n",
       "    .dataframe tbody tr th {\n",
       "        vertical-align: top;\n",
>>>>>>> 03787fc04664ca64bd18cb24df57de8c5f36ca9a
       "    }\n",
       "</style>\n",
       "<table border=\"1\" class=\"dataframe\">\n",
       "  <thead>\n",
       "    <tr style=\"text-align: right;\">\n",
       "      <th></th>\n",
       "      <th>order_id</th>\n",
       "      <th>user_id</th>\n",
       "      <th>order_dow</th>\n",
<<<<<<< HEAD
       "      <th>department</th>\n",
       "      <th>aisle</th>\n",
       "      <th>product_name</th>\n",
=======
       "      <th>product_name</th>\n",
       "      <th>aisle</th>\n",
       "      <th>department</th>\n",
>>>>>>> 03787fc04664ca64bd18cb24df57de8c5f36ca9a
       "    </tr>\n",
       "  </thead>\n",
       "  <tbody>\n",
       "    <tr>\n",
       "      <th>0</th>\n",
       "      <td>1187899</td>\n",
       "      <td>1</td>\n",
       "      <td>wednesday</td>\n",
<<<<<<< HEAD
       "      <td>beverages</td>\n",
       "      <td>soft drinks</td>\n",
       "      <td>Soda</td>\n",
=======
       "      <td>Soda</td>\n",
       "      <td>soft drinks</td>\n",
       "      <td>beverages</td>\n",
>>>>>>> 03787fc04664ca64bd18cb24df57de8c5f36ca9a
       "    </tr>\n",
       "    <tr>\n",
       "      <th>1</th>\n",
       "      <td>2757217</td>\n",
       "      <td>67</td>\n",
       "      <td>saturday</td>\n",
<<<<<<< HEAD
       "      <td>beverages</td>\n",
       "      <td>soft drinks</td>\n",
       "      <td>Soda</td>\n",
=======
       "      <td>Soda</td>\n",
       "      <td>soft drinks</td>\n",
       "      <td>beverages</td>\n",
>>>>>>> 03787fc04664ca64bd18cb24df57de8c5f36ca9a
       "    </tr>\n",
       "    <tr>\n",
       "      <th>2</th>\n",
       "      <td>632715</td>\n",
       "      <td>676</td>\n",
       "      <td>saturday</td>\n",
<<<<<<< HEAD
       "      <td>beverages</td>\n",
       "      <td>soft drinks</td>\n",
       "      <td>Soda</td>\n",
=======
       "      <td>Soda</td>\n",
       "      <td>soft drinks</td>\n",
       "      <td>beverages</td>\n",
>>>>>>> 03787fc04664ca64bd18cb24df57de8c5f36ca9a
       "    </tr>\n",
       "    <tr>\n",
       "      <th>3</th>\n",
       "      <td>1167274</td>\n",
       "      <td>760</td>\n",
       "      <td>wednesday</td>\n",
<<<<<<< HEAD
       "      <td>beverages</td>\n",
       "      <td>soft drinks</td>\n",
       "      <td>Soda</td>\n",
=======
       "      <td>Soda</td>\n",
       "      <td>soft drinks</td>\n",
       "      <td>beverages</td>\n",
>>>>>>> 03787fc04664ca64bd18cb24df57de8c5f36ca9a
       "    </tr>\n",
       "    <tr>\n",
       "      <th>4</th>\n",
       "      <td>3347074</td>\n",
       "      <td>804</td>\n",
       "      <td>tuesday</td>\n",
<<<<<<< HEAD
       "      <td>beverages</td>\n",
       "      <td>soft drinks</td>\n",
       "      <td>Soda</td>\n",
=======
       "      <td>Soda</td>\n",
       "      <td>soft drinks</td>\n",
       "      <td>beverages</td>\n",
>>>>>>> 03787fc04664ca64bd18cb24df57de8c5f36ca9a
       "    </tr>\n",
       "  </tbody>\n",
       "</table>\n",
       "</div>"
      ],
      "text/plain": [
<<<<<<< HEAD
       "   order_id  user_id  order_dow department        aisle product_name\n",
       "0   1187899        1  wednesday  beverages  soft drinks         Soda\n",
       "1   2757217       67   saturday  beverages  soft drinks         Soda\n",
       "2    632715      676   saturday  beverages  soft drinks         Soda\n",
       "3   1167274      760  wednesday  beverages  soft drinks         Soda\n",
       "4   3347074      804    tuesday  beverages  soft drinks         Soda"
      ]
     },
     "execution_count": 18,
=======
       "   order_id  user_id  order_dow product_name        aisle department\n",
       "0   1187899        1  wednesday         Soda  soft drinks  beverages\n",
       "1   2757217       67   saturday         Soda  soft drinks  beverages\n",
       "2    632715      676   saturday         Soda  soft drinks  beverages\n",
       "3   1167274      760  wednesday         Soda  soft drinks  beverages\n",
       "4   3347074      804    tuesday         Soda  soft drinks  beverages"
      ]
     },
     "execution_count": 6,
>>>>>>> 03787fc04664ca64bd18cb24df57de8c5f36ca9a
     "metadata": {},
     "output_type": "execute_result"
    }
   ],
   "source": [
    "dataset.head()"
   ]
  },
  {
   "cell_type": "markdown",
   "metadata": {},
   "source": [
    "# Questões "
   ]
  },
  {
   "cell_type": "markdown",
   "metadata": {},
   "source": [
    "## A) Quantos usuários únicos fizeram pedidos?"
   ]
  },
  {
   "cell_type": "code",
<<<<<<< HEAD
   "execution_count": 20,
=======
   "execution_count": 7,
>>>>>>> 03787fc04664ca64bd18cb24df57de8c5f36ca9a
   "metadata": {},
   "outputs": [
    {
     "data": {
      "text/plain": [
       "117221"
      ]
     },
<<<<<<< HEAD
     "execution_count": 20,
=======
     "execution_count": 7,
>>>>>>> 03787fc04664ca64bd18cb24df57de8c5f36ca9a
     "metadata": {},
     "output_type": "execute_result"
    }
   ],
   "source": [
<<<<<<< HEAD
    "len(dataset.user_id.unique())"
=======
    "dataset.user_id.unique().shape[0]"
>>>>>>> 03787fc04664ca64bd18cb24df57de8c5f36ca9a
   ]
  },
  {
   "cell_type": "markdown",
   "metadata": {},
   "source": [
    "## B) Qual o produto que apareceu em mais pedidos?"
   ]
  },
  {
   "cell_type": "code",
<<<<<<< HEAD
   "execution_count": 36,
   "metadata": {},
   "outputs": [
    {
     "data": {
      "text/plain": [
       "Banana                                                                         16784\n",
       "Bag of Organic Bananas                                                         13790\n",
       "Organic Strawberries                                                            9740\n",
       "Organic Baby Spinach                                                            8734\n",
       "Large Lemon                                                                     7254\n",
       "Organic Avocado                                                                 6642\n",
       "Organic Hass Avocado                                                            6545\n",
       "Strawberries                                                                    5775\n",
       "Limes                                                                           5383\n",
       "Organic Raspberries                                                             5002\n",
       "Organic Blueberries                                                             4473\n",
       "Organic Whole Milk                                                              4384\n",
       "Organic Cucumber                                                                4122\n",
       "Organic Zucchini                                                                4108\n",
       "Organic Yellow Onion                                                            3790\n",
       "Organic Garlic                                                                  3686\n",
       "Seedless Red Grapes                                                             3594\n",
       "Asparagus                                                                       3462\n",
       "Organic Red Onion                                                               3442\n",
       "Organic Grape Tomatoes                                                          3436\n",
       "Yellow Onions                                                                   3363\n",
       "Organic Baby Carrots                                                            3228\n",
       "Honeycrisp Apple                                                                3172\n",
       "Organic Cilantro                                                                3164\n",
       "Organic Lemon                                                                   3119\n",
       "Sparkling Water Grapefruit                                                      2990\n",
       "Raspberries                                                                     2924\n",
       "Organic Fuji Apple                                                              2882\n",
       "Small Hass Avocado                                                              2782\n",
       "Broccoli Crown                                                                  2633\n",
       "                                                                               ...  \n",
       "Milano Lemon Flavored Chocolate Cookies                                            1\n",
       "Balsamic Vinaigrette & Marinade, Fat Free                                          1\n",
       "Mountain Spring Ultra Fabric Softener                                              1\n",
       "ColorGuard HE Turbo Clean Liquid Laundry Detergent, 92 oz, 48 loads Laundry        1\n",
       "100% Concord Grape Juice, No Sugar Added                                           1\n",
       "Strawberry Peach And Mango Adult Vitamin D3 Gummies                                1\n",
       "Art's Original Blend Bar                                                           1\n",
       "Triple Soothing Action Mentho Lyptus Cough Drops Bonus Bag                         1\n",
       "Chardonnay Paso Robles                                                             1\n",
       "SPF 30 Mineral Sheer Moisturizer                                                   1\n",
       "Simply 100 Crunch Mix Berry                                                        1\n",
       "Star Light Candles                                                                 1\n",
       "Fruit Punch Rush Juice                                                             1\n",
       "Fudge Dipped Coconut Granola Bars                                                  1\n",
       "Kids Only! Extra Gentle Shampoo                                                    1\n",
       "The Icicle Reusable Ice Substitute                                                 1\n",
       "Michael Recchiuti Extra Bitter Chocolate Sauce                                     1\n",
       "Veggie Meatless Meatballs                                                          1\n",
       "Waxed Paper Bags                                                                   1\n",
       "Foldit Flatbreads Artisan Rosemary & Olive Oil                                     1\n",
       "Original Organic Soymilk                                                           1\n",
       "Dailyware Variety Pack                                                             1\n",
       "Slippery Elm Pure Maple Sugar Lozenges                                             1\n",
       "Strawberry de Mexico                                                               1\n",
       "One Plant-Based Natural Nutritional Shake Drink Mix                                1\n",
       "Vanilla Candiquik Candy Coating                                                    1\n",
       "Arroz Calasparra Paella Rice                                                       1\n",
       "Triple Berry Preserves                                                             1\n",
       "Rooibos Chai Caffeine Free Herbal Tea                                              1\n",
       "Freezer Safe Regular Mouth Quilted Crystal Jelly Jars 8 Oz                         1\n",
       "Name: product_name, Length: 38222, dtype: int64"
      ]
     },
     "execution_count": 36,
     "metadata": {},
     "output_type": "execute_result"
    }
   ],
   "source": [
    "\"\"\" Entre com o Código aqui \"\"\"\n",
    "g = dataset.groupby('order_id')\n",
    "tmp = g.product_name.value_counts()\n",
    "dataset.product_name.value_counts()"
=======
   "execution_count": 8,
   "metadata": {},
   "outputs": [
    {
     "name": "stdout",
     "output_type": "stream",
     "text": [
      "Produto que ocorre em mais pedidos: Banana (16784 ocorrências)\n"
     ]
    }
   ],
   "source": [
    "g = dataset.groupby([\"order_id\", \"product_name\"])\n",
    "product_counts = g.count().reset_index().set_index(\"order_id\").product_name.value_counts()\n",
    "print(\"Produto que ocorre em mais pedidos: {} ({} ocorrências)\".format(product_counts.argmax(), product_counts.max()))"
>>>>>>> 03787fc04664ca64bd18cb24df57de8c5f36ca9a
   ]
  },
  {
   "cell_type": "markdown",
   "metadata": {},
   "source": [
    "## C) Quais os usuários que fizeram mais e menos pedidos?"
   ]
  },
  {
   "cell_type": "code",
<<<<<<< HEAD
   "execution_count": 69,
   "metadata": {},
   "outputs": [
    {
     "data": {
      "text/plain": [
       "117221"
      ]
     },
     "execution_count": 69,
     "metadata": {},
     "output_type": "execute_result"
=======
   "execution_count": 9,
   "metadata": {},
   "outputs": [
    {
     "name": "stdout",
     "output_type": "stream",
     "text": [
      "Usuário com mais pedidos: 2887678 (1 ocorrências)\n",
      "Usuário com menos pedidos: 2887678 (1 ocorrências)\n"
     ]
>>>>>>> 03787fc04664ca64bd18cb24df57de8c5f36ca9a
    }
   ],
   "source": [
    "\"\"\" Entre com o Código aqui \"\"\"\n",
<<<<<<< HEAD
    "len(dataset.order_id.unique())"
=======
    "g = dataset.groupby([\"user_id\", \"order_id\"])\n",
    "order_counts = g.count().reset_index().set_index(\"user_id\").order_id.value_counts()\n",
    "print(\"Usuário com mais pedidos: {} ({} ocorrências)\".format(order_counts.argmax(), order_counts.max()))\n",
    "print(\"Usuário com menos pedidos: {} ({} ocorrências)\".format(order_counts.argmin(), order_counts.min()))"
>>>>>>> 03787fc04664ca64bd18cb24df57de8c5f36ca9a
   ]
  },
  {
   "cell_type": "markdown",
   "metadata": {},
   "source": [
    "## D) Qual a média e o desvio padrão da quantidade de produtos presentes em um pedido um usuário?"
   ]
  },
  {
   "cell_type": "code",
<<<<<<< HEAD
   "execution_count": 76,
=======
   "execution_count": 10,
>>>>>>> 03787fc04664ca64bd18cb24df57de8c5f36ca9a
   "metadata": {},
   "outputs": [
    {
     "data": {
      "text/plain": [
<<<<<<< HEAD
       "count    117221.000000\n",
       "mean         10.564191\n",
       "std           7.945047\n",
       "min           1.000000\n",
       "25%           5.000000\n",
       "50%           9.000000\n",
       "75%          14.000000\n",
       "max          80.000000\n",
       "Name: product_name, dtype: float64"
      ]
     },
     "execution_count": 76,
=======
       "mean    10.564191\n",
       "std      7.945047\n",
       "Name: product_name, dtype: float64"
      ]
     },
     "execution_count": 10,
>>>>>>> 03787fc04664ca64bd18cb24df57de8c5f36ca9a
     "metadata": {},
     "output_type": "execute_result"
    }
   ],
   "source": [
<<<<<<< HEAD
    "\"\"\" Entre com o Código aqui \"\"\"\n",
    "g = dataset.groupby(['order_id'])\n",
    "s = g.product_name.count()\n",
    "s.describe()"
=======
    "g = dataset.groupby([\"order_id\"])\n",
    "product_counts = g.product_name.count()\n",
    "product_counts.describe()[[\"mean\", \"std\"]]"
>>>>>>> 03787fc04664ca64bd18cb24df57de8c5f36ca9a
   ]
  },
  {
   "cell_type": "markdown",
   "metadata": {},
   "source": [
    "## E) Qual a média, a mediana, o mínimo e o máximo da quantidade de corredores (`aisles`) por departamento (`department`)?\n"
   ]
  },
  {
   "cell_type": "code",
<<<<<<< HEAD
   "execution_count": 99,
=======
   "execution_count": 11,
>>>>>>> 03787fc04664ca64bd18cb24df57de8c5f36ca9a
   "metadata": {},
   "outputs": [
    {
     "data": {
      "text/plain": [
       "mean     6.380952\n",
       "50%      5.000000\n",
       "min      1.000000\n",
       "max     17.000000\n",
       "Name: aisle, dtype: float64"
      ]
     },
<<<<<<< HEAD
     "execution_count": 99,
=======
     "execution_count": 11,
>>>>>>> 03787fc04664ca64bd18cb24df57de8c5f36ca9a
     "metadata": {},
     "output_type": "execute_result"
    }
   ],
   "source": [
<<<<<<< HEAD
    "\"\"\" Entre com o Código aqui \"\"\"\n",
    "g = dataset.groupby('department')\n",
    "g.aisle.unique().map(len).describe()[['mean', '50%', 'min', 'max' ]]"
=======
    "aisles_per_dept = dataset[[\"department\", \"aisle\"]].drop_duplicates([\"department\", \"aisle\"])\n",
    "g = aisles_per_dept.groupby(\"department\")\n",
    "aisle_count = g.aisle.count()\n",
    "aisle_count.describe()[[\"mean\", \"50%\", \"min\", \"max\"]]"
>>>>>>> 03787fc04664ca64bd18cb24df57de8c5f36ca9a
   ]
  },
  {
   "cell_type": "markdown",
   "metadata": {},
   "source": [
    "## F) Qual o dia da semana em que ocorrem mais pedidos de produtos para cada departmento (`department`)?"
   ]
  },
  {
   "cell_type": "code",
<<<<<<< HEAD
   "execution_count": 115,
=======
   "execution_count": 12,
>>>>>>> 03787fc04664ca64bd18cb24df57de8c5f36ca9a
   "metadata": {},
   "outputs": [
    {
     "data": {
<<<<<<< HEAD
      "text/html": [
       "<div>\n",
       "<style scoped>\n",
       "    .dataframe tbody tr th:only-of-type {\n",
       "        vertical-align: middle;\n",
       "    }\n",
       "\n",
       "    .dataframe tbody tr th {\n",
       "        vertical-align: top;\n",
       "    }\n",
       "\n",
       "    .dataframe thead th {\n",
       "        text-align: right;\n",
       "    }\n",
       "</style>\n",
       "<table border=\"1\" class=\"dataframe\">\n",
       "  <thead>\n",
       "    <tr style=\"text-align: right;\">\n",
       "      <th>department</th>\n",
       "      <th>alcohol</th>\n",
       "      <th>babies</th>\n",
       "      <th>bakery</th>\n",
       "      <th>beverages</th>\n",
       "      <th>breakfast</th>\n",
       "      <th>bulk</th>\n",
       "      <th>canned goods</th>\n",
       "      <th>dairy eggs</th>\n",
       "      <th>deli</th>\n",
       "      <th>dry goods pasta</th>\n",
       "      <th>...</th>\n",
       "      <th>household</th>\n",
       "      <th>international</th>\n",
       "      <th>meat seafood</th>\n",
       "      <th>missing</th>\n",
       "      <th>other</th>\n",
       "      <th>pantry</th>\n",
       "      <th>personal care</th>\n",
       "      <th>pets</th>\n",
       "      <th>produce</th>\n",
       "      <th>snacks</th>\n",
       "    </tr>\n",
       "    <tr>\n",
       "      <th>order_dow</th>\n",
       "      <th></th>\n",
       "      <th></th>\n",
       "      <th></th>\n",
       "      <th></th>\n",
       "      <th></th>\n",
       "      <th></th>\n",
       "      <th></th>\n",
       "      <th></th>\n",
       "      <th></th>\n",
       "      <th></th>\n",
       "      <th></th>\n",
       "      <th></th>\n",
       "      <th></th>\n",
       "      <th></th>\n",
       "      <th></th>\n",
       "      <th></th>\n",
       "      <th></th>\n",
       "      <th></th>\n",
       "      <th></th>\n",
       "      <th></th>\n",
       "      <th></th>\n",
       "    </tr>\n",
       "  </thead>\n",
       "  <tbody>\n",
       "    <tr>\n",
       "      <th>friday</th>\n",
       "      <td>683</td>\n",
       "      <td>1769</td>\n",
       "      <td>6441</td>\n",
       "      <td>14623</td>\n",
       "      <td>3694</td>\n",
       "      <td>170</td>\n",
       "      <td>6334</td>\n",
       "      <td>28728</td>\n",
       "      <td>5793</td>\n",
       "      <td>5397</td>\n",
       "      <td>...</td>\n",
       "      <td>4858</td>\n",
       "      <td>1630</td>\n",
       "      <td>4353</td>\n",
       "      <td>1214</td>\n",
       "      <td>263</td>\n",
       "      <td>11509</td>\n",
       "      <td>3115</td>\n",
       "      <td>687</td>\n",
       "      <td>55197</td>\n",
       "      <td>14554</td>\n",
       "    </tr>\n",
       "    <tr>\n",
       "      <th>monday</th>\n",
       "      <td>578</td>\n",
       "      <td>1637</td>\n",
       "      <td>5081</td>\n",
       "      <td>12575</td>\n",
       "      <td>3218</td>\n",
       "      <td>150</td>\n",
       "      <td>4876</td>\n",
       "      <td>22388</td>\n",
       "      <td>4623</td>\n",
       "      <td>4035</td>\n",
       "      <td>...</td>\n",
       "      <td>3979</td>\n",
       "      <td>1182</td>\n",
       "      <td>2946</td>\n",
       "      <td>781</td>\n",
       "      <td>184</td>\n",
       "      <td>8365</td>\n",
       "      <td>2341</td>\n",
       "      <td>421</td>\n",
       "      <td>40960</td>\n",
       "      <td>13082</td>\n",
       "    </tr>\n",
       "    <tr>\n",
       "      <th>saturday</th>\n",
       "      <td>640</td>\n",
       "      <td>3143</td>\n",
       "      <td>10088</td>\n",
       "      <td>20249</td>\n",
       "      <td>5936</td>\n",
       "      <td>275</td>\n",
       "      <td>10422</td>\n",
       "      <td>45579</td>\n",
       "      <td>9530</td>\n",
       "      <td>8500</td>\n",
       "      <td>...</td>\n",
       "      <td>6697</td>\n",
       "      <td>2693</td>\n",
       "      <td>6958</td>\n",
       "      <td>1833</td>\n",
       "      <td>329</td>\n",
       "      <td>16506</td>\n",
       "      <td>4251</td>\n",
       "      <td>801</td>\n",
       "      <td>93313</td>\n",
       "      <td>22366</td>\n",
       "    </tr>\n",
       "    <tr>\n",
       "      <th>sunday</th>\n",
       "      <td>571</td>\n",
       "      <td>1929</td>\n",
       "      <td>6338</td>\n",
       "      <td>15324</td>\n",
       "      <td>4146</td>\n",
       "      <td>162</td>\n",
       "      <td>6214</td>\n",
       "      <td>28977</td>\n",
       "      <td>6106</td>\n",
       "      <td>5183</td>\n",
       "      <td>...</td>\n",
       "      <td>4497</td>\n",
       "      <td>1562</td>\n",
       "      <td>3908</td>\n",
       "      <td>959</td>\n",
       "      <td>223</td>\n",
       "      <td>10253</td>\n",
       "      <td>2724</td>\n",
       "      <td>600</td>\n",
       "      <td>54798</td>\n",
       "      <td>16369</td>\n",
       "    </tr>\n",
       "    <tr>\n",
       "      <th>thursday</th>\n",
       "      <td>929</td>\n",
       "      <td>1761</td>\n",
       "      <td>5636</td>\n",
       "      <td>14215</td>\n",
       "      <td>3434</td>\n",
       "      <td>171</td>\n",
       "      <td>4915</td>\n",
       "      <td>25249</td>\n",
       "      <td>5045</td>\n",
       "      <td>4156</td>\n",
       "      <td>...</td>\n",
       "      <td>4344</td>\n",
       "      <td>1263</td>\n",
       "      <td>3297</td>\n",
       "      <td>1010</td>\n",
       "      <td>217</td>\n",
       "      <td>9547</td>\n",
       "      <td>2479</td>\n",
       "      <td>590</td>\n",
       "      <td>44699</td>\n",
       "      <td>14222</td>\n",
       "    </tr>\n",
       "    <tr>\n",
       "      <th>tuesday</th>\n",
       "      <td>753</td>\n",
       "      <td>1568</td>\n",
       "      <td>4799</td>\n",
       "      <td>12441</td>\n",
       "      <td>3044</td>\n",
       "      <td>141</td>\n",
       "      <td>4471</td>\n",
       "      <td>21558</td>\n",
       "      <td>4321</td>\n",
       "      <td>3655</td>\n",
       "      <td>...</td>\n",
       "      <td>3905</td>\n",
       "      <td>1196</td>\n",
       "      <td>2771</td>\n",
       "      <td>817</td>\n",
       "      <td>215</td>\n",
       "      <td>8164</td>\n",
       "      <td>2265</td>\n",
       "      <td>467</td>\n",
       "      <td>38093</td>\n",
       "      <td>13190</td>\n",
       "    </tr>\n",
       "    <tr>\n",
       "      <th>wednesday</th>\n",
       "      <td>853</td>\n",
       "      <td>1517</td>\n",
       "      <td>4876</td>\n",
       "      <td>12578</td>\n",
       "      <td>2984</td>\n",
       "      <td>149</td>\n",
       "      <td>4461</td>\n",
       "      <td>21903</td>\n",
       "      <td>4226</td>\n",
       "      <td>3695</td>\n",
       "      <td>...</td>\n",
       "      <td>4019</td>\n",
       "      <td>1111</td>\n",
       "      <td>2846</td>\n",
       "      <td>775</td>\n",
       "      <td>183</td>\n",
       "      <td>8394</td>\n",
       "      <td>2159</td>\n",
       "      <td>459</td>\n",
       "      <td>38580</td>\n",
       "      <td>12661</td>\n",
       "    </tr>\n",
       "  </tbody>\n",
       "</table>\n",
       "<p>7 rows × 21 columns</p>\n",
       "</div>"
      ],
      "text/plain": [
       "department  alcohol  babies  bakery  beverages  breakfast  bulk  canned goods  \\\n",
       "order_dow                                                                       \n",
       "friday          683    1769    6441      14623       3694   170          6334   \n",
       "monday          578    1637    5081      12575       3218   150          4876   \n",
       "saturday        640    3143   10088      20249       5936   275         10422   \n",
       "sunday          571    1929    6338      15324       4146   162          6214   \n",
       "thursday        929    1761    5636      14215       3434   171          4915   \n",
       "tuesday         753    1568    4799      12441       3044   141          4471   \n",
       "wednesday       853    1517    4876      12578       2984   149          4461   \n",
       "\n",
       "department  dairy eggs  deli  dry goods pasta   ...    household  \\\n",
       "order_dow                                       ...                \n",
       "friday           28728  5793             5397   ...         4858   \n",
       "monday           22388  4623             4035   ...         3979   \n",
       "saturday         45579  9530             8500   ...         6697   \n",
       "sunday           28977  6106             5183   ...         4497   \n",
       "thursday         25249  5045             4156   ...         4344   \n",
       "tuesday          21558  4321             3655   ...         3905   \n",
       "wednesday        21903  4226             3695   ...         4019   \n",
       "\n",
       "department  international  meat seafood  missing  other  pantry  \\\n",
       "order_dow                                                         \n",
       "friday               1630          4353     1214    263   11509   \n",
       "monday               1182          2946      781    184    8365   \n",
       "saturday             2693          6958     1833    329   16506   \n",
       "sunday               1562          3908      959    223   10253   \n",
       "thursday             1263          3297     1010    217    9547   \n",
       "tuesday              1196          2771      817    215    8164   \n",
       "wednesday            1111          2846      775    183    8394   \n",
       "\n",
       "department  personal care  pets  produce  snacks  \n",
       "order_dow                                         \n",
       "friday               3115   687    55197   14554  \n",
       "monday               2341   421    40960   13082  \n",
       "saturday             4251   801    93313   22366  \n",
       "sunday               2724   600    54798   16369  \n",
       "thursday             2479   590    44699   14222  \n",
       "tuesday              2265   467    38093   13190  \n",
       "wednesday            2159   459    38580   12661  \n",
       "\n",
       "[7 rows x 21 columns]"
      ]
     },
     "execution_count": 115,
=======
      "text/plain": [
       "department\n",
       "alcohol            thursday\n",
       "babies             saturday\n",
       "bakery             saturday\n",
       "beverages          saturday\n",
       "breakfast          saturday\n",
       "bulk               saturday\n",
       "canned goods       saturday\n",
       "dairy eggs         saturday\n",
       "deli               saturday\n",
       "dry goods pasta    saturday\n",
       "frozen             saturday\n",
       "household          saturday\n",
       "international      saturday\n",
       "meat seafood       saturday\n",
       "missing            saturday\n",
       "other              saturday\n",
       "pantry             saturday\n",
       "personal care      saturday\n",
       "pets               saturday\n",
       "produce            saturday\n",
       "snacks             saturday\n",
       "dtype: object"
      ]
     },
     "execution_count": 12,
>>>>>>> 03787fc04664ca64bd18cb24df57de8c5f36ca9a
     "metadata": {},
     "output_type": "execute_result"
    }
   ],
   "source": [
<<<<<<< HEAD
    "\"\"\" Entre com o Código aqui \"\"\"\n",
    "g = dataset.groupby(['order_dow', 'department'])\n",
    "g2 = g.product_name.count()\n",
    "g3 = g2.unstack()\n",
    "g3"
=======
    "g = dataset.groupby([\"department\", \"order_dow\"])\n",
    "product_count_per_dow = g.product_name.count()\n",
    "product_count_per_dow_table = product_count_per_dow.unstack()\n",
    "product_count_per_dow_table.apply(lambda x: x.argmax(), axis=1)"
>>>>>>> 03787fc04664ca64bd18cb24df57de8c5f36ca9a
   ]
  },
  {
   "cell_type": "markdown",
   "metadata": {},
   "source": [
    "##  G) Quais foram os 5% piores e os 5% melhores corredores (`aisle`) em termos de vendas? "
   ]
  },
  {
   "cell_type": "code",
   "execution_count": 13,
   "metadata": {},
   "outputs": [
    {
     "data": {
      "text/plain": [
       "(458.44999999999999, 28386.649999999991)"
      ]
     },
     "execution_count": 13,
     "metadata": {},
     "output_type": "execute_result"
    }
   ],
   "source": [
    "aisles_sales_count = dataset.groupby(\"aisle\").product_name.count()\n",
    "l_inf, l_sup = aisles_sales_count.describe(percentiles=[.05, .95])[[\"5%\", \"95%\"]]\n",
    "l_inf, l_sup"
   ]
  },
  {
   "cell_type": "code",
   "execution_count": 14,
   "metadata": {},
   "outputs": [
    {
     "data": {
      "text/plain": [
       "aisle\n",
       "beauty                        247\n",
       "frozen juice                  251\n",
       "baby accessories              273\n",
       "baby bath body care           286\n",
       "kitchen supplies              410\n",
       "specialty wines champagnes    416\n",
       "ice cream toppings            450\n",
       "Name: product_name, dtype: int64"
      ]
     },
     "execution_count": 14,
     "metadata": {},
     "output_type": "execute_result"
    }
   ],
   "source": [
    "\"\"\"piores corredores\"\"\"\n",
    "aisles_sales_count[aisles_sales_count < l_inf].sort_values()"
   ]
  },
  {
   "cell_type": "code",
   "execution_count": 15,
   "metadata": {},
   "outputs": [
    {
     "data": {
      "text/plain": [
       "aisle\n",
       "fresh fruits                     134576\n",
       "fresh vegetables                 134559\n",
       "packaged vegetables fruits        70176\n",
       "yogurt                            49372\n",
       "packaged cheese                   37390\n",
       "water seltzer sparkling water     32647\n",
       "milk                              29192\n",
       "Name: product_name, dtype: int64"
      ]
     },
     "execution_count": 15,
     "metadata": {},
     "output_type": "execute_result"
    }
   ],
   "source": [
    "\"\"\"melhores corredores\"\"\"\n",
    "aisles_sales_count[aisles_sales_count > l_sup].sort_values(ascending=False)"
   ]
  },
  {
   "cell_type": "markdown",
   "metadata": {},
   "source": [
    "##  H) Quais foram os 5 produtos mais comprados de cada departamento na terça-feira? \n",
    "\n",
    "### Mostre em uma tabela como no exemplo:\n",
    "\n",
    "| departamento | 1o produto | 2o produto | 3o produto | 4o produto | 5o produto |\n",
    "|:------------ |:---------- |:---------- |:---------- |:---------- |:---------- |\n",
    "| depart 01    | prod A     | prod W     | prod L     | prod H     | prod D     |\n",
    "| depart 02    | prod X     | prod Q     | prod B     | prod S     | prod P     |\n",
    "| ...          | ...        | ...        | ...        | ...        | ...        |\n"
   ]
  },
  {
   "cell_type": "code",
   "execution_count": 16,
   "metadata": {},
   "outputs": [
    {
     "name": "stdout",
     "output_type": "stream",
     "text": [
      "Department 'alcohol':\n",
      " - Cabernet Sauvignon\n",
      " - Sauvignon Blanc\n",
      " - India Pale Ale\n",
      " - Beer\n",
      " - Chardonnay\n",
      "Department 'babies':\n",
      " - Baby Food Stage 2 Blueberry Pear & Purple Carrot\n",
      " - Gluten Free SpongeBob Spinach Littles\n",
      " - Spinach Peas & Pear Stage 2 Baby Food\n",
      " - Peach,  Apricot & Banana Stage 2 Baby Food\n",
      " - Broccoli & Apple Stage 2 Baby Food\n",
      "Department 'bakery':\n",
      " - 100% Whole Wheat Bread\n",
      " - Organic Bread with 21 Whole Grains\n",
      " - Ezekiel 4:9 Bread Organic Sprouted Whole Grain\n",
      " - Organic 21 Grain Thin Sliced Bread\n",
      " - Original Nooks & Crannies English Muffins\n",
      "Department 'beverages':\n",
      " - Sparkling Water Grapefruit\n",
      " - Spring Water\n",
      " - Soda\n",
      " - Sparkling Natural Mineral Water\n",
      " - Lime Sparkling Water\n",
      "Department 'breakfast':\n",
      " - Honey Nut Cheerios\n",
      " - Organic Old Fashioned Rolled Oats\n",
      " - Raisin Bran Cereal\n",
      " - Cereal\n",
      " - Cherrios Honey Nut\n",
      "Department 'bulk':\n",
      " - Dried Mango\n",
      " - Organic Rolled Oats\n",
      " - Organic Black Mission Figs\n",
      " - Apricots\n",
      " - Vegetable Chips\n",
      "Department 'canned goods':\n",
      " - Organic Black Beans\n",
      " - No Salt Added Black Beans\n",
      " - Organic Garbanzo Beans\n",
      " - Organic Diced Tomatoes\n",
      " - Organic AppleApple\n",
      "Department 'dairy eggs':\n",
      " - Organic Whole Milk\n",
      " - Half & Half\n",
      " - Organic Half & Half\n",
      " - Unsweetened Almondmilk\n",
      " - Organic Unsweetened Almond Milk\n",
      "Department 'deli':\n",
      " - Original Hummus\n",
      " - Uncured Genoa Salami\n",
      " - Organic Extra Firm Tofu\n",
      " - Oven Roasted Turkey Breast\n",
      " - Organic Roasted Turkey Breast\n",
      "Department 'dry goods pasta':\n",
      " - Marinara Sauce\n",
      " - Organic Tomato Basil Pasta Sauce\n",
      " - Basil Pesto\n",
      " - Marinara Pasta Sauce\n",
      " - Spaghetti\n",
      "Department 'frozen':\n",
      " - Blueberries\n",
      " - Organic Broccoli Florets\n",
      " - Organic Whole Strawberries\n",
      " - Pineapple Chunks\n",
      " - Frozen Organic Wild Blueberries\n",
      "Department 'household':\n",
      " - 100% Recycled Paper Towels\n",
      " - Sustainably Soft Bath Tissue\n",
      " - Aluminum Foil\n",
      " - White Giant Paper Towel Rolls\n",
      " - Select-A-Size White Paper Towels\n",
      "Department 'international':\n",
      " - Organic Sea Salt Roasted Seaweed Snacks\n",
      " - Taco Seasoning\n",
      " - Sriracha Chili Sauce\n",
      " - New Mexico Taco Skillet Sauce For Chicken\n",
      " - Coconut Milk\n",
      "Department 'meat seafood':\n",
      " - Boneless Skinless Chicken Breasts\n",
      " - Uncured Hickory Smoked Sunday Bacon\n",
      " - Ground Turkey Breast\n",
      " - Boneless Skinless Chicken Breast\n",
      " - Natural Chicken & Sage Breakfast Sausage\n",
      "Department 'missing':\n",
      " - Organic Riced Cauliflower\n",
      " - Natural Lemon Flavored Sparkling Water\n",
      " - Peanut Butter Ice Cream Cup\n",
      " - Organic Uncured Beef Hot Dog\n",
      " - Organic Celery Bunch\n",
      "Department 'other':\n",
      " - Roasted Almond Butter\n",
      " - Light CocoWhip! Coconut Whipped Topping\n",
      " - Coffee Mate French Vanilla Creamer Packets\n",
      " - Kiwifruit\n",
      " - Roasted Unsalted Almonds\n",
      "Department 'pantry':\n",
      " - Extra Virgin Olive Oil\n",
      " - Creamy Peanut Butter\n",
      " - Creamy Almond Butter\n",
      " - Organic Medium Salsa\n",
      " - Organic Extra Virgin Olive Oil\n",
      "Department 'personal care':\n",
      " - Lavender Hand Soap\n",
      " - Cotton Swabs\n",
      " - Fluoride-Free Antiplaque & Whitening Peppermint Toothpaste\n",
      " - Lemon Verbena Hand Soap\n",
      " - Epsom Salt\n",
      "Department 'pets':\n",
      " - Grain Free Chicken Formula Cat Food\n",
      " - Double Duty Advanced Odor Control Clumping Cat Litter\n",
      " - 24/7 Performance Light Weight Cat Litter\n",
      " - Grilled Ocean Whitefish & Tuna Feast in Gravy Cat Food\n",
      " - Adult Indoor Advantage Cat Food\n",
      "Department 'produce':\n",
      " - Banana\n",
      " - Bag of Organic Bananas\n",
      " - Organic Strawberries\n",
      " - Organic Baby Spinach\n",
      " - Large Lemon\n",
      "Department 'snacks':\n",
      " - Lightly Salted Baked Snap Pea Crisps\n",
      " - Organic Tortilla Chips\n",
      " - Trail Mix\n",
      " - Chocolate Chip Cookies\n",
      " - Sea Salt Pita Chips\n"
     ]
    }
   ],
   "source": [
    "tuesday_orders = dataset[dataset.order_dow == \"tuesday\"]\n",
    "depart_prod_count = pd.crosstab(tuesday_orders.department, tuesday_orders.product_name)\n",
    "\n",
    "top_5_prods_per_dept = depart_prod_count.apply(lambda x: x.sort_values(ascending=False)[:5].index.tolist(), axis=1)\n",
    "for dept in top_5_prods_per_dept.index:\n",
    "    print(\"Department '{}':\".format(dept))\n",
    "    print(\" - \" + \"\\n - \".join(top_5_prods_per_dept.loc[dept]))"
   ]
  },
  {
   "cell_type": "markdown",
   "metadata": {},
   "source": [
    "## I) Quais são os 2 corredores (`aisles`) que são visitados juntos no mesmo pedido mais vezes em uma sexta-feira?"
   ]
  },
  {
   "cell_type": "code",
   "execution_count": 17,
   "metadata": {},
   "outputs": [
    {
     "data": {
      "text/plain": [
       "aisle             aisle       \n",
       "fresh vegetables  fresh fruits    5809\n",
       "dtype: int64"
      ]
     },
     "execution_count": 17,
     "metadata": {},
     "output_type": "execute_result"
    }
   ],
   "source": [
    "friday_orders = dataset[dataset.order_dow == \"friday\"]\n",
    "aisles_visit_count = pd.crosstab(friday_orders.order_id, friday_orders.aisle).applymap(lambda x: 1 if x > 0 else 0)\n",
    "co_occurrent_aisles = aisles_visit_count.T.dot(aisles_visit_count)\n",
    "co_occurrent_aisles -= np.triu(co_occurrent_aisles)\n",
    "co_occurrent_aisles.stack().sort_values(ascending=False).head(1)"
   ]
  },
  {
   "cell_type": "markdown",
   "metadata": {},
   "source": [
    "## J) Quais as duplas de produtos que mais saem juntas no pedido (`order_id`) de um usuário em uma sexta-feira?"
   ]
  },
  {
   "cell_type": "code",
   "execution_count": 18,
   "metadata": {},
   "outputs": [
    {
     "name": "stdout",
     "output_type": "stream",
     "text": [
      "Wall time: 5min 34s\n"
     ]
    }
   ],
   "source": [
    "%%time\n",
    "friday_orders = dataset[dataset.order_dow == \"friday\"]\n",
    "products_count = (pd.crosstab(friday_orders.order_id, friday_orders.product_name) > 0).astype(float)\n",
    "co_occurrent_products = products_count.T.dot(products_count)\n",
    "co_occurrent_products -= np.triu(co_occurrent_products)"
   ]
  },
  {
   "cell_type": "code",
   "execution_count": 19,
   "metadata": {},
   "outputs": [
    {
     "data": {
      "text/plain": [
       "product_name          product_name          \n",
       "Organic Strawberries  Bag of Organic Bananas    409.0\n",
       "dtype: float64"
      ]
     },
     "execution_count": 19,
     "metadata": {},
     "output_type": "execute_result"
    }
   ],
   "source": [
    "co_occurrent_products.stack().sort_values(ascending=False).head(1)"
   ]
  }
 ],
 "metadata": {
  "kernelspec": {
   "display_name": "Python 3",
   "language": "python",
   "name": "python3"
  },
  "language_info": {
   "codemirror_mode": {
    "name": "ipython",
    "version": 3
   },
   "file_extension": ".py",
   "mimetype": "text/x-python",
   "name": "python",
   "nbconvert_exporter": "python",
   "pygments_lexer": "ipython3",
   "version": "3.6.2"
  }
 },
 "nbformat": 4,
 "nbformat_minor": 2
}
