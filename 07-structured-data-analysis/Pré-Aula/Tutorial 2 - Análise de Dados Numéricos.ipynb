{
 "cells": [
  {
   "cell_type": "markdown",
   "metadata": {},
   "source": [
    "# Tutorial 2: Análise de Dados"
   ]
  },
  {
   "cell_type": "markdown",
   "metadata": {},
   "source": [
    "___"
   ]
  },
  {
   "cell_type": "markdown",
   "metadata": {},
   "source": [
    "# Imports para a Aula"
   ]
  },
  {
   "cell_type": "code",
   "execution_count": 24,
   "metadata": {},
   "outputs": [],
   "source": [
    "import numpy as np\n",
    "import pandas as pd"
   ]
  },
  {
   "cell_type": "markdown",
   "metadata": {},
   "source": [
    "\n",
    "# Operações Vetoriais"
   ]
  },
  {
   "cell_type": "markdown",
   "metadata": {},
   "source": [
    "## Definição das Variáveis"
   ]
  },
  {
   "cell_type": "code",
   "execution_count": 25,
   "metadata": {},
   "outputs": [
    {
     "data": {
      "text/html": [
       "<div>\n",
       "<style scoped>\n",
       "    .dataframe tbody tr th:only-of-type {\n",
       "        vertical-align: middle;\n",
       "    }\n",
       "\n",
       "    .dataframe tbody tr th {\n",
       "        vertical-align: top;\n",
       "    }\n",
       "\n",
       "    .dataframe thead th {\n",
       "        text-align: right;\n",
       "    }\n",
       "</style>\n",
       "<table border=\"1\" class=\"dataframe\">\n",
       "  <thead>\n",
       "    <tr style=\"text-align: right;\">\n",
       "      <th></th>\n",
       "      <th>Unidade</th>\n",
       "      <th>Quantidade</th>\n",
       "      <th>Preço Unitário</th>\n",
       "    </tr>\n",
       "    <tr>\n",
       "      <th>Itens</th>\n",
       "      <th></th>\n",
       "      <th></th>\n",
       "      <th></th>\n",
       "    </tr>\n",
       "  </thead>\n",
       "  <tbody>\n",
       "    <tr>\n",
       "      <th>Leite</th>\n",
       "      <td>Litro</td>\n",
       "      <td>4</td>\n",
       "      <td>3.0</td>\n",
       "    </tr>\n",
       "    <tr>\n",
       "      <th>Ovos</th>\n",
       "      <td>Dúzia</td>\n",
       "      <td>3</td>\n",
       "      <td>6.5</td>\n",
       "    </tr>\n",
       "    <tr>\n",
       "      <th>Carne</th>\n",
       "      <td>Kilograma</td>\n",
       "      <td>1</td>\n",
       "      <td>25.9</td>\n",
       "    </tr>\n",
       "    <tr>\n",
       "      <th>Arroz</th>\n",
       "      <td>Kilograma</td>\n",
       "      <td>5</td>\n",
       "      <td>5.0</td>\n",
       "    </tr>\n",
       "    <tr>\n",
       "      <th>Feijão</th>\n",
       "      <td>Kilograma</td>\n",
       "      <td>2</td>\n",
       "      <td>3.8</td>\n",
       "    </tr>\n",
       "  </tbody>\n",
       "</table>\n",
       "</div>"
      ],
      "text/plain": [
       "          Unidade Quantidade Preço Unitário\n",
       "Itens                                      \n",
       "Leite       Litro          4            3.0\n",
       "Ovos        Dúzia          3            6.5\n",
       "Carne   Kilograma          1           25.9\n",
       "Arroz   Kilograma          5            5.0\n",
       "Feijão  Kilograma          2            3.8"
      ]
     },
     "execution_count": 25,
     "metadata": {},
     "output_type": "execute_result"
    }
   ],
   "source": [
    "df = pd.DataFrame(\n",
    "    index=pd.Index(data=[\"Leite\", \"Ovos\", \"Carne\", \"Arroz\", \"Feijão\"], name=\"Itens\"),\n",
    "    columns=[\"Unidade\", \"Quantidade\",  \"Preço Unitário\"],\n",
    "    data=np.array([\n",
    "        [\"Litro\", \"Dúzia\", \"Kilograma\", \"Kilograma\", \"Kilograma\"],\n",
    "        [4, 3, 1, 5, 2],\n",
    "        [3.00, 6.50, 25.90, 5.00, 3.80]\n",
    "    ]).T,\n",
    ")\n",
    "df"
   ]
  },
  {
   "cell_type": "code",
   "execution_count": 26,
   "metadata": {},
   "outputs": [
    {
     "data": {
      "text/plain": [
       "Unidade           object\n",
       "Quantidade        object\n",
       "Preço Unitário    object\n",
       "dtype: object"
      ]
     },
     "execution_count": 26,
     "metadata": {},
     "output_type": "execute_result"
    }
   ],
   "source": [
    "\"\"\" verificando dtypes \"\"\"\n",
    "df.dtypes"
   ]
  },
  {
   "cell_type": "code",
   "execution_count": 27,
   "metadata": {},
   "outputs": [
    {
     "data": {
      "text/html": [
       "<div>\n",
       "<style scoped>\n",
       "    .dataframe tbody tr th:only-of-type {\n",
       "        vertical-align: middle;\n",
       "    }\n",
       "\n",
       "    .dataframe tbody tr th {\n",
       "        vertical-align: top;\n",
       "    }\n",
       "\n",
       "    .dataframe thead th {\n",
       "        text-align: right;\n",
       "    }\n",
       "</style>\n",
       "<table border=\"1\" class=\"dataframe\">\n",
       "  <thead>\n",
       "    <tr style=\"text-align: right;\">\n",
       "      <th></th>\n",
       "      <th>Unidade</th>\n",
       "      <th>Quantidade</th>\n",
       "      <th>Preço Unitário</th>\n",
       "    </tr>\n",
       "    <tr>\n",
       "      <th>Itens</th>\n",
       "      <th></th>\n",
       "      <th></th>\n",
       "      <th></th>\n",
       "    </tr>\n",
       "  </thead>\n",
       "  <tbody>\n",
       "    <tr>\n",
       "      <th>Leite</th>\n",
       "      <td>Litro</td>\n",
       "      <td>4.0</td>\n",
       "      <td>3.0</td>\n",
       "    </tr>\n",
       "    <tr>\n",
       "      <th>Ovos</th>\n",
       "      <td>Dúzia</td>\n",
       "      <td>3.0</td>\n",
       "      <td>6.5</td>\n",
       "    </tr>\n",
       "    <tr>\n",
       "      <th>Carne</th>\n",
       "      <td>Kilograma</td>\n",
       "      <td>1.0</td>\n",
       "      <td>25.9</td>\n",
       "    </tr>\n",
       "    <tr>\n",
       "      <th>Arroz</th>\n",
       "      <td>Kilograma</td>\n",
       "      <td>5.0</td>\n",
       "      <td>5.0</td>\n",
       "    </tr>\n",
       "    <tr>\n",
       "      <th>Feijão</th>\n",
       "      <td>Kilograma</td>\n",
       "      <td>2.0</td>\n",
       "      <td>3.8</td>\n",
       "    </tr>\n",
       "  </tbody>\n",
       "</table>\n",
       "</div>"
      ],
      "text/plain": [
       "          Unidade  Quantidade  Preço Unitário\n",
       "Itens                                        \n",
       "Leite       Litro         4.0             3.0\n",
       "Ovos        Dúzia         3.0             6.5\n",
       "Carne   Kilograma         1.0            25.9\n",
       "Arroz   Kilograma         5.0             5.0\n",
       "Feijão  Kilograma         2.0             3.8"
      ]
     },
     "execution_count": 27,
     "metadata": {},
     "output_type": "execute_result"
    }
   ],
   "source": [
    "\"\"\"Conversão necessária pois o pandas interp´reta 'mixed types' como strings \"\"\"\n",
    "df[[\"Quantidade\",  \"Preço Unitário\"]] = df[[\"Quantidade\",  \"Preço Unitário\"]].astype(float)\n",
    "df"
   ]
  },
  {
   "cell_type": "code",
   "execution_count": 28,
   "metadata": {},
   "outputs": [
    {
     "data": {
      "text/plain": [
       "Unidade            object\n",
       "Quantidade        float64\n",
       "Preço Unitário    float64\n",
       "dtype: object"
      ]
     },
     "execution_count": 28,
     "metadata": {},
     "output_type": "execute_result"
    }
   ],
   "source": [
    "\"\"\" verificando dtypes \"\"\"\n",
    "df.dtypes"
   ]
  },
  {
   "cell_type": "markdown",
   "metadata": {},
   "source": [
    "## Manipulações Numéricas"
   ]
  },
  {
   "cell_type": "markdown",
   "metadata": {},
   "source": [
    "### * Incrementando o Preço Unitário"
   ]
  },
  {
   "cell_type": "code",
   "execution_count": 29,
   "metadata": {},
   "outputs": [
    {
     "data": {
      "text/html": [
       "<div>\n",
       "<style scoped>\n",
       "    .dataframe tbody tr th:only-of-type {\n",
       "        vertical-align: middle;\n",
       "    }\n",
       "\n",
       "    .dataframe tbody tr th {\n",
       "        vertical-align: top;\n",
       "    }\n",
       "\n",
       "    .dataframe thead th {\n",
       "        text-align: right;\n",
       "    }\n",
       "</style>\n",
       "<table border=\"1\" class=\"dataframe\">\n",
       "  <thead>\n",
       "    <tr style=\"text-align: right;\">\n",
       "      <th></th>\n",
       "      <th>Unidade</th>\n",
       "      <th>Quantidade</th>\n",
       "      <th>Preço Unitário</th>\n",
       "    </tr>\n",
       "    <tr>\n",
       "      <th>Itens</th>\n",
       "      <th></th>\n",
       "      <th></th>\n",
       "      <th></th>\n",
       "    </tr>\n",
       "  </thead>\n",
       "  <tbody>\n",
       "    <tr>\n",
       "      <th>Leite</th>\n",
       "      <td>Litro</td>\n",
       "      <td>4.0</td>\n",
       "      <td>4.0</td>\n",
       "    </tr>\n",
       "    <tr>\n",
       "      <th>Ovos</th>\n",
       "      <td>Dúzia</td>\n",
       "      <td>3.0</td>\n",
       "      <td>7.5</td>\n",
       "    </tr>\n",
       "    <tr>\n",
       "      <th>Carne</th>\n",
       "      <td>Kilograma</td>\n",
       "      <td>1.0</td>\n",
       "      <td>26.9</td>\n",
       "    </tr>\n",
       "    <tr>\n",
       "      <th>Arroz</th>\n",
       "      <td>Kilograma</td>\n",
       "      <td>5.0</td>\n",
       "      <td>6.0</td>\n",
       "    </tr>\n",
       "    <tr>\n",
       "      <th>Feijão</th>\n",
       "      <td>Kilograma</td>\n",
       "      <td>2.0</td>\n",
       "      <td>4.8</td>\n",
       "    </tr>\n",
       "  </tbody>\n",
       "</table>\n",
       "</div>"
      ],
      "text/plain": [
       "          Unidade  Quantidade  Preço Unitário\n",
       "Itens                                        \n",
       "Leite       Litro         4.0             4.0\n",
       "Ovos        Dúzia         3.0             7.5\n",
       "Carne   Kilograma         1.0            26.9\n",
       "Arroz   Kilograma         5.0             6.0\n",
       "Feijão  Kilograma         2.0             4.8"
      ]
     },
     "execution_count": 29,
     "metadata": {},
     "output_type": "execute_result"
    }
   ],
   "source": [
    "df[\"Preço Unitário\"] += 1.\n",
    "df"
   ]
  },
  {
   "cell_type": "markdown",
   "metadata": {},
   "source": [
    "### * Desconto de 10% no Preço Unitário"
   ]
  },
  {
   "cell_type": "code",
   "execution_count": 30,
   "metadata": {},
   "outputs": [
    {
     "data": {
      "text/html": [
       "<div>\n",
       "<style scoped>\n",
       "    .dataframe tbody tr th:only-of-type {\n",
       "        vertical-align: middle;\n",
       "    }\n",
       "\n",
       "    .dataframe tbody tr th {\n",
       "        vertical-align: top;\n",
       "    }\n",
       "\n",
       "    .dataframe thead th {\n",
       "        text-align: right;\n",
       "    }\n",
       "</style>\n",
       "<table border=\"1\" class=\"dataframe\">\n",
       "  <thead>\n",
       "    <tr style=\"text-align: right;\">\n",
       "      <th></th>\n",
       "      <th>Unidade</th>\n",
       "      <th>Quantidade</th>\n",
       "      <th>Preço Unitário</th>\n",
       "    </tr>\n",
       "    <tr>\n",
       "      <th>Itens</th>\n",
       "      <th></th>\n",
       "      <th></th>\n",
       "      <th></th>\n",
       "    </tr>\n",
       "  </thead>\n",
       "  <tbody>\n",
       "    <tr>\n",
       "      <th>Leite</th>\n",
       "      <td>Litro</td>\n",
       "      <td>4.0</td>\n",
       "      <td>3.60</td>\n",
       "    </tr>\n",
       "    <tr>\n",
       "      <th>Ovos</th>\n",
       "      <td>Dúzia</td>\n",
       "      <td>3.0</td>\n",
       "      <td>6.75</td>\n",
       "    </tr>\n",
       "    <tr>\n",
       "      <th>Carne</th>\n",
       "      <td>Kilograma</td>\n",
       "      <td>1.0</td>\n",
       "      <td>24.21</td>\n",
       "    </tr>\n",
       "    <tr>\n",
       "      <th>Arroz</th>\n",
       "      <td>Kilograma</td>\n",
       "      <td>5.0</td>\n",
       "      <td>5.40</td>\n",
       "    </tr>\n",
       "    <tr>\n",
       "      <th>Feijão</th>\n",
       "      <td>Kilograma</td>\n",
       "      <td>2.0</td>\n",
       "      <td>4.32</td>\n",
       "    </tr>\n",
       "  </tbody>\n",
       "</table>\n",
       "</div>"
      ],
      "text/plain": [
       "          Unidade  Quantidade  Preço Unitário\n",
       "Itens                                        \n",
       "Leite       Litro         4.0            3.60\n",
       "Ovos        Dúzia         3.0            6.75\n",
       "Carne   Kilograma         1.0           24.21\n",
       "Arroz   Kilograma         5.0            5.40\n",
       "Feijão  Kilograma         2.0            4.32"
      ]
     },
     "execution_count": 30,
     "metadata": {},
     "output_type": "execute_result"
    }
   ],
   "source": [
    "df[\"Preço Unitário\"] *= 0.90\n",
    "df"
   ]
  },
  {
   "cell_type": "markdown",
   "metadata": {},
   "source": [
    "### * Cálculo do Preço Total por Item"
   ]
  },
  {
   "cell_type": "code",
   "execution_count": 31,
   "metadata": {},
   "outputs": [
    {
     "data": {
      "text/html": [
       "<div>\n",
       "<style scoped>\n",
       "    .dataframe tbody tr th:only-of-type {\n",
       "        vertical-align: middle;\n",
       "    }\n",
       "\n",
       "    .dataframe tbody tr th {\n",
       "        vertical-align: top;\n",
       "    }\n",
       "\n",
       "    .dataframe thead th {\n",
       "        text-align: right;\n",
       "    }\n",
       "</style>\n",
       "<table border=\"1\" class=\"dataframe\">\n",
       "  <thead>\n",
       "    <tr style=\"text-align: right;\">\n",
       "      <th></th>\n",
       "      <th>Unidade</th>\n",
       "      <th>Quantidade</th>\n",
       "      <th>Preço Unitário</th>\n",
       "      <th>Preço Total</th>\n",
       "    </tr>\n",
       "    <tr>\n",
       "      <th>Itens</th>\n",
       "      <th></th>\n",
       "      <th></th>\n",
       "      <th></th>\n",
       "      <th></th>\n",
       "    </tr>\n",
       "  </thead>\n",
       "  <tbody>\n",
       "    <tr>\n",
       "      <th>Leite</th>\n",
       "      <td>Litro</td>\n",
       "      <td>4.0</td>\n",
       "      <td>3.60</td>\n",
       "      <td>14.40</td>\n",
       "    </tr>\n",
       "    <tr>\n",
       "      <th>Ovos</th>\n",
       "      <td>Dúzia</td>\n",
       "      <td>3.0</td>\n",
       "      <td>6.75</td>\n",
       "      <td>20.25</td>\n",
       "    </tr>\n",
       "    <tr>\n",
       "      <th>Carne</th>\n",
       "      <td>Kilograma</td>\n",
       "      <td>1.0</td>\n",
       "      <td>24.21</td>\n",
       "      <td>24.21</td>\n",
       "    </tr>\n",
       "    <tr>\n",
       "      <th>Arroz</th>\n",
       "      <td>Kilograma</td>\n",
       "      <td>5.0</td>\n",
       "      <td>5.40</td>\n",
       "      <td>27.00</td>\n",
       "    </tr>\n",
       "    <tr>\n",
       "      <th>Feijão</th>\n",
       "      <td>Kilograma</td>\n",
       "      <td>2.0</td>\n",
       "      <td>4.32</td>\n",
       "      <td>8.64</td>\n",
       "    </tr>\n",
       "  </tbody>\n",
       "</table>\n",
       "</div>"
      ],
      "text/plain": [
       "          Unidade  Quantidade  Preço Unitário  Preço Total\n",
       "Itens                                                     \n",
       "Leite       Litro         4.0            3.60        14.40\n",
       "Ovos        Dúzia         3.0            6.75        20.25\n",
       "Carne   Kilograma         1.0           24.21        24.21\n",
       "Arroz   Kilograma         5.0            5.40        27.00\n",
       "Feijão  Kilograma         2.0            4.32         8.64"
      ]
     },
     "execution_count": 31,
     "metadata": {},
     "output_type": "execute_result"
    }
   ],
   "source": [
    "df[\"Preço Total\"] = df[\"Preço Unitário\"] * df[\"Quantidade\"]\n",
    "df"
   ]
  },
  {
   "cell_type": "markdown",
   "metadata": {},
   "source": [
    "### * Cálculo do Preço por Kg"
   ]
  },
  {
   "cell_type": "code",
   "execution_count": 32,
   "metadata": {},
   "outputs": [
    {
     "data": {
      "text/html": [
       "<div>\n",
       "<style scoped>\n",
       "    .dataframe tbody tr th:only-of-type {\n",
       "        vertical-align: middle;\n",
       "    }\n",
       "\n",
       "    .dataframe tbody tr th {\n",
       "        vertical-align: top;\n",
       "    }\n",
       "\n",
       "    .dataframe thead th {\n",
       "        text-align: right;\n",
       "    }\n",
       "</style>\n",
       "<table border=\"1\" class=\"dataframe\">\n",
       "  <thead>\n",
       "    <tr style=\"text-align: right;\">\n",
       "      <th></th>\n",
       "      <th>Unidade</th>\n",
       "      <th>Quantidade</th>\n",
       "      <th>Preço Unitário</th>\n",
       "      <th>Preço Total</th>\n",
       "      <th>Preço Médio Por Kg</th>\n",
       "    </tr>\n",
       "    <tr>\n",
       "      <th>Itens</th>\n",
       "      <th></th>\n",
       "      <th></th>\n",
       "      <th></th>\n",
       "      <th></th>\n",
       "      <th></th>\n",
       "    </tr>\n",
       "  </thead>\n",
       "  <tbody>\n",
       "    <tr>\n",
       "      <th>Leite</th>\n",
       "      <td>Litro</td>\n",
       "      <td>4.0</td>\n",
       "      <td>3.60</td>\n",
       "      <td>14.40</td>\n",
       "      <td>NaN</td>\n",
       "    </tr>\n",
       "    <tr>\n",
       "      <th>Ovos</th>\n",
       "      <td>Dúzia</td>\n",
       "      <td>3.0</td>\n",
       "      <td>6.75</td>\n",
       "      <td>20.25</td>\n",
       "      <td>NaN</td>\n",
       "    </tr>\n",
       "    <tr>\n",
       "      <th>Carne</th>\n",
       "      <td>Kilograma</td>\n",
       "      <td>1.0</td>\n",
       "      <td>24.21</td>\n",
       "      <td>24.21</td>\n",
       "      <td>NaN</td>\n",
       "    </tr>\n",
       "    <tr>\n",
       "      <th>Arroz</th>\n",
       "      <td>Kilograma</td>\n",
       "      <td>5.0</td>\n",
       "      <td>5.40</td>\n",
       "      <td>27.00</td>\n",
       "      <td>NaN</td>\n",
       "    </tr>\n",
       "    <tr>\n",
       "      <th>Feijão</th>\n",
       "      <td>Kilograma</td>\n",
       "      <td>2.0</td>\n",
       "      <td>4.32</td>\n",
       "      <td>8.64</td>\n",
       "      <td>NaN</td>\n",
       "    </tr>\n",
       "  </tbody>\n",
       "</table>\n",
       "</div>"
      ],
      "text/plain": [
       "          Unidade  Quantidade  Preço Unitário  Preço Total  Preço Médio Por Kg\n",
       "Itens                                                                         \n",
       "Leite       Litro         4.0            3.60        14.40                 NaN\n",
       "Ovos        Dúzia         3.0            6.75        20.25                 NaN\n",
       "Carne   Kilograma         1.0           24.21        24.21                 NaN\n",
       "Arroz   Kilograma         5.0            5.40        27.00                 NaN\n",
       "Feijão  Kilograma         2.0            4.32         8.64                 NaN"
      ]
     },
     "execution_count": 32,
     "metadata": {},
     "output_type": "execute_result"
    }
   ],
   "source": [
    "df[\"Preço Médio Por Kg\"] = np.nan\n",
    "df"
   ]
  },
  {
   "cell_type": "code",
   "execution_count": 33,
   "metadata": {},
   "outputs": [
    {
     "data": {
      "text/html": [
       "<div>\n",
       "<style scoped>\n",
       "    .dataframe tbody tr th:only-of-type {\n",
       "        vertical-align: middle;\n",
       "    }\n",
       "\n",
       "    .dataframe tbody tr th {\n",
       "        vertical-align: top;\n",
       "    }\n",
       "\n",
       "    .dataframe thead th {\n",
       "        text-align: right;\n",
       "    }\n",
       "</style>\n",
       "<table border=\"1\" class=\"dataframe\">\n",
       "  <thead>\n",
       "    <tr style=\"text-align: right;\">\n",
       "      <th></th>\n",
       "      <th>Unidade</th>\n",
       "      <th>Quantidade</th>\n",
       "      <th>Preço Unitário</th>\n",
       "      <th>Preço Total</th>\n",
       "      <th>Preço Médio Por Kg</th>\n",
       "    </tr>\n",
       "    <tr>\n",
       "      <th>Itens</th>\n",
       "      <th></th>\n",
       "      <th></th>\n",
       "      <th></th>\n",
       "      <th></th>\n",
       "      <th></th>\n",
       "    </tr>\n",
       "  </thead>\n",
       "  <tbody>\n",
       "    <tr>\n",
       "      <th>Carne</th>\n",
       "      <td>Kilograma</td>\n",
       "      <td>1.0</td>\n",
       "      <td>24.21</td>\n",
       "      <td>24.21</td>\n",
       "      <td>NaN</td>\n",
       "    </tr>\n",
       "    <tr>\n",
       "      <th>Arroz</th>\n",
       "      <td>Kilograma</td>\n",
       "      <td>5.0</td>\n",
       "      <td>5.40</td>\n",
       "      <td>27.00</td>\n",
       "      <td>NaN</td>\n",
       "    </tr>\n",
       "    <tr>\n",
       "      <th>Feijão</th>\n",
       "      <td>Kilograma</td>\n",
       "      <td>2.0</td>\n",
       "      <td>4.32</td>\n",
       "      <td>8.64</td>\n",
       "      <td>NaN</td>\n",
       "    </tr>\n",
       "  </tbody>\n",
       "</table>\n",
       "</div>"
      ],
      "text/plain": [
       "          Unidade  Quantidade  Preço Unitário  Preço Total  Preço Médio Por Kg\n",
       "Itens                                                                         \n",
       "Carne   Kilograma         1.0           24.21        24.21                 NaN\n",
       "Arroz   Kilograma         5.0            5.40        27.00                 NaN\n",
       "Feijão  Kilograma         2.0            4.32         8.64                 NaN"
      ]
     },
     "execution_count": 33,
     "metadata": {},
     "output_type": "execute_result"
    }
   ],
   "source": [
    "mask = df[\"Unidade\"] == \"Kilograma\"\n",
    "df[mask]"
   ]
  },
  {
   "cell_type": "code",
   "execution_count": 34,
   "metadata": {},
   "outputs": [
    {
     "data": {
      "text/html": [
       "<div>\n",
       "<style scoped>\n",
       "    .dataframe tbody tr th:only-of-type {\n",
       "        vertical-align: middle;\n",
       "    }\n",
       "\n",
       "    .dataframe tbody tr th {\n",
       "        vertical-align: top;\n",
       "    }\n",
       "\n",
       "    .dataframe thead th {\n",
       "        text-align: right;\n",
       "    }\n",
       "</style>\n",
       "<table border=\"1\" class=\"dataframe\">\n",
       "  <thead>\n",
       "    <tr style=\"text-align: right;\">\n",
       "      <th></th>\n",
       "      <th>Unidade</th>\n",
       "      <th>Quantidade</th>\n",
       "      <th>Preço Unitário</th>\n",
       "      <th>Preço Total</th>\n",
       "      <th>Preço Médio Por Kg</th>\n",
       "    </tr>\n",
       "    <tr>\n",
       "      <th>Itens</th>\n",
       "      <th></th>\n",
       "      <th></th>\n",
       "      <th></th>\n",
       "      <th></th>\n",
       "      <th></th>\n",
       "    </tr>\n",
       "  </thead>\n",
       "  <tbody>\n",
       "    <tr>\n",
       "      <th>Leite</th>\n",
       "      <td>Litro</td>\n",
       "      <td>4.0</td>\n",
       "      <td>3.60</td>\n",
       "      <td>14.40</td>\n",
       "      <td>NaN</td>\n",
       "    </tr>\n",
       "    <tr>\n",
       "      <th>Ovos</th>\n",
       "      <td>Dúzia</td>\n",
       "      <td>3.0</td>\n",
       "      <td>6.75</td>\n",
       "      <td>20.25</td>\n",
       "      <td>NaN</td>\n",
       "    </tr>\n",
       "    <tr>\n",
       "      <th>Carne</th>\n",
       "      <td>Kilograma</td>\n",
       "      <td>1.0</td>\n",
       "      <td>24.21</td>\n",
       "      <td>24.21</td>\n",
       "      <td>27.45</td>\n",
       "    </tr>\n",
       "    <tr>\n",
       "      <th>Arroz</th>\n",
       "      <td>Kilograma</td>\n",
       "      <td>5.0</td>\n",
       "      <td>5.40</td>\n",
       "      <td>27.00</td>\n",
       "      <td>27.45</td>\n",
       "    </tr>\n",
       "    <tr>\n",
       "      <th>Feijão</th>\n",
       "      <td>Kilograma</td>\n",
       "      <td>2.0</td>\n",
       "      <td>4.32</td>\n",
       "      <td>8.64</td>\n",
       "      <td>27.45</td>\n",
       "    </tr>\n",
       "  </tbody>\n",
       "</table>\n",
       "</div>"
      ],
      "text/plain": [
       "          Unidade  Quantidade  Preço Unitário  Preço Total  Preço Médio Por Kg\n",
       "Itens                                                                         \n",
       "Leite       Litro         4.0            3.60        14.40                 NaN\n",
       "Ovos        Dúzia         3.0            6.75        20.25                 NaN\n",
       "Carne   Kilograma         1.0           24.21        24.21               27.45\n",
       "Arroz   Kilograma         5.0            5.40        27.00               27.45\n",
       "Feijão  Kilograma         2.0            4.32         8.64               27.45"
      ]
     },
     "execution_count": 34,
     "metadata": {},
     "output_type": "execute_result"
    }
   ],
   "source": [
    "df.loc[mask, \"Preço Médio Por Kg\"] = (df.loc[mask, \"Preço Unitário\"] / df.loc[mask, \"Quantidade\"]).sum()\n",
    "df"
   ]
  },
  {
   "cell_type": "markdown",
   "metadata": {},
   "source": [
    "### * Preenchendo NaNs"
   ]
  },
  {
   "cell_type": "code",
   "execution_count": 35,
   "metadata": {},
   "outputs": [
    {
     "data": {
      "text/html": [
       "<div>\n",
       "<style scoped>\n",
       "    .dataframe tbody tr th:only-of-type {\n",
       "        vertical-align: middle;\n",
       "    }\n",
       "\n",
       "    .dataframe tbody tr th {\n",
       "        vertical-align: top;\n",
       "    }\n",
       "\n",
       "    .dataframe thead th {\n",
       "        text-align: right;\n",
       "    }\n",
       "</style>\n",
       "<table border=\"1\" class=\"dataframe\">\n",
       "  <thead>\n",
       "    <tr style=\"text-align: right;\">\n",
       "      <th></th>\n",
       "      <th>Unidade</th>\n",
       "      <th>Quantidade</th>\n",
       "      <th>Preço Unitário</th>\n",
       "      <th>Preço Total</th>\n",
       "      <th>Preço Médio Por Kg</th>\n",
       "    </tr>\n",
       "    <tr>\n",
       "      <th>Itens</th>\n",
       "      <th></th>\n",
       "      <th></th>\n",
       "      <th></th>\n",
       "      <th></th>\n",
       "      <th></th>\n",
       "    </tr>\n",
       "  </thead>\n",
       "  <tbody>\n",
       "    <tr>\n",
       "      <th>Leite</th>\n",
       "      <td>Litro</td>\n",
       "      <td>4.0</td>\n",
       "      <td>3.60</td>\n",
       "      <td>14.40</td>\n",
       "      <td>0.00</td>\n",
       "    </tr>\n",
       "    <tr>\n",
       "      <th>Ovos</th>\n",
       "      <td>Dúzia</td>\n",
       "      <td>3.0</td>\n",
       "      <td>6.75</td>\n",
       "      <td>20.25</td>\n",
       "      <td>0.00</td>\n",
       "    </tr>\n",
       "    <tr>\n",
       "      <th>Carne</th>\n",
       "      <td>Kilograma</td>\n",
       "      <td>1.0</td>\n",
       "      <td>24.21</td>\n",
       "      <td>24.21</td>\n",
       "      <td>27.45</td>\n",
       "    </tr>\n",
       "    <tr>\n",
       "      <th>Arroz</th>\n",
       "      <td>Kilograma</td>\n",
       "      <td>5.0</td>\n",
       "      <td>5.40</td>\n",
       "      <td>27.00</td>\n",
       "      <td>27.45</td>\n",
       "    </tr>\n",
       "    <tr>\n",
       "      <th>Feijão</th>\n",
       "      <td>Kilograma</td>\n",
       "      <td>2.0</td>\n",
       "      <td>4.32</td>\n",
       "      <td>8.64</td>\n",
       "      <td>27.45</td>\n",
       "    </tr>\n",
       "  </tbody>\n",
       "</table>\n",
       "</div>"
      ],
      "text/plain": [
       "          Unidade  Quantidade  Preço Unitário  Preço Total  Preço Médio Por Kg\n",
       "Itens                                                                         \n",
       "Leite       Litro         4.0            3.60        14.40                0.00\n",
       "Ovos        Dúzia         3.0            6.75        20.25                0.00\n",
       "Carne   Kilograma         1.0           24.21        24.21               27.45\n",
       "Arroz   Kilograma         5.0            5.40        27.00               27.45\n",
       "Feijão  Kilograma         2.0            4.32         8.64               27.45"
      ]
     },
     "execution_count": 35,
     "metadata": {},
     "output_type": "execute_result"
    }
   ],
   "source": [
    "df.fillna(0)"
   ]
  },
  {
   "cell_type": "markdown",
   "metadata": {},
   "source": [
    "### * Soma : apenas valores numéricos "
   ]
  },
  {
   "cell_type": "code",
   "execution_count": 36,
   "metadata": {},
   "outputs": [
    {
     "data": {
      "text/plain": [
       "Unidade               LitroDúziaKilogramaKilogramaKilograma\n",
       "Quantidade                                               15\n",
       "Preço Unitário                                        44.28\n",
       "Preço Total                                            94.5\n",
       "Preço Médio Por Kg                                    82.35\n",
       "dtype: object"
      ]
     },
     "execution_count": 36,
     "metadata": {},
     "output_type": "execute_result"
    }
   ],
   "source": [
    "df.sum()"
   ]
  },
  {
   "cell_type": "markdown",
   "metadata": {},
   "source": [
    "### * Média: apenas valores numéricos "
   ]
  },
  {
   "cell_type": "code",
   "execution_count": 37,
   "metadata": {},
   "outputs": [
    {
     "data": {
      "text/plain": [
       "Quantidade             3.000\n",
       "Preço Unitário         8.856\n",
       "Preço Total           18.900\n",
       "Preço Médio Por Kg    27.450\n",
       "dtype: float64"
      ]
     },
     "execution_count": 37,
     "metadata": {},
     "output_type": "execute_result"
    }
   ],
   "source": [
    "df.mean()"
   ]
  },
  {
   "cell_type": "markdown",
   "metadata": {},
   "source": [
    "### * Desvio Padrão: apenas valores numéricos "
   ]
  },
  {
   "cell_type": "code",
   "execution_count": 38,
   "metadata": {},
   "outputs": [
    {
     "data": {
      "text/plain": [
       "Quantidade            1.581139\n",
       "Preço Unitário        8.664948\n",
       "Preço Total           7.435493\n",
       "Preço Médio Por Kg    0.000000\n",
       "dtype: float64"
      ]
     },
     "execution_count": 38,
     "metadata": {},
     "output_type": "execute_result"
    }
   ],
   "source": [
    "df.std()"
   ]
  },
  {
   "cell_type": "markdown",
   "metadata": {},
   "source": [
    "### * Mediana: apenas valores numéricos "
   ]
  },
  {
   "cell_type": "code",
   "execution_count": 39,
   "metadata": {},
   "outputs": [
    {
     "data": {
      "text/plain": [
       "Quantidade             3.00\n",
       "Preço Unitário         5.40\n",
       "Preço Total           20.25\n",
       "Preço Médio Por Kg    27.45\n",
       "dtype: float64"
      ]
     },
     "execution_count": 39,
     "metadata": {},
     "output_type": "execute_result"
    }
   ],
   "source": [
    "df.median()"
   ]
  },
  {
   "cell_type": "markdown",
   "metadata": {},
   "source": [
    "### * Moda (valores mais frequentes): todos os tipos de valores"
   ]
  },
  {
   "cell_type": "code",
   "execution_count": 40,
   "metadata": {},
   "outputs": [
    {
     "data": {
      "text/html": [
       "<div>\n",
       "<style scoped>\n",
       "    .dataframe tbody tr th:only-of-type {\n",
       "        vertical-align: middle;\n",
       "    }\n",
       "\n",
       "    .dataframe tbody tr th {\n",
       "        vertical-align: top;\n",
       "    }\n",
       "\n",
       "    .dataframe thead th {\n",
       "        text-align: right;\n",
       "    }\n",
       "</style>\n",
       "<table border=\"1\" class=\"dataframe\">\n",
       "  <thead>\n",
       "    <tr style=\"text-align: right;\">\n",
       "      <th></th>\n",
       "      <th>Unidade</th>\n",
       "      <th>Quantidade</th>\n",
       "      <th>Preço Unitário</th>\n",
       "      <th>Preço Total</th>\n",
       "      <th>Preço Médio Por Kg</th>\n",
       "    </tr>\n",
       "  </thead>\n",
       "  <tbody>\n",
       "    <tr>\n",
       "      <th>0</th>\n",
       "      <td>Kilograma</td>\n",
       "      <td>1.0</td>\n",
       "      <td>3.60</td>\n",
       "      <td>8.64</td>\n",
       "      <td>27.45</td>\n",
       "    </tr>\n",
       "    <tr>\n",
       "      <th>1</th>\n",
       "      <td>NaN</td>\n",
       "      <td>2.0</td>\n",
       "      <td>4.32</td>\n",
       "      <td>14.40</td>\n",
       "      <td>NaN</td>\n",
       "    </tr>\n",
       "    <tr>\n",
       "      <th>2</th>\n",
       "      <td>NaN</td>\n",
       "      <td>3.0</td>\n",
       "      <td>5.40</td>\n",
       "      <td>20.25</td>\n",
       "      <td>NaN</td>\n",
       "    </tr>\n",
       "    <tr>\n",
       "      <th>3</th>\n",
       "      <td>NaN</td>\n",
       "      <td>4.0</td>\n",
       "      <td>6.75</td>\n",
       "      <td>24.21</td>\n",
       "      <td>NaN</td>\n",
       "    </tr>\n",
       "    <tr>\n",
       "      <th>4</th>\n",
       "      <td>NaN</td>\n",
       "      <td>5.0</td>\n",
       "      <td>24.21</td>\n",
       "      <td>27.00</td>\n",
       "      <td>NaN</td>\n",
       "    </tr>\n",
       "  </tbody>\n",
       "</table>\n",
       "</div>"
      ],
      "text/plain": [
       "     Unidade  Quantidade  Preço Unitário  Preço Total  Preço Médio Por Kg\n",
       "0  Kilograma         1.0            3.60         8.64               27.45\n",
       "1        NaN         2.0            4.32        14.40                 NaN\n",
       "2        NaN         3.0            5.40        20.25                 NaN\n",
       "3        NaN         4.0            6.75        24.21                 NaN\n",
       "4        NaN         5.0           24.21        27.00                 NaN"
      ]
     },
     "execution_count": 40,
     "metadata": {},
     "output_type": "execute_result"
    }
   ],
   "source": [
    "df.mode()"
   ]
  },
  {
   "cell_type": "markdown",
   "metadata": {},
   "source": [
    "# Análise de Dados"
   ]
  },
  {
   "cell_type": "markdown",
   "metadata": {},
   "source": [
    "## Definição das Variáveis"
   ]
  },
  {
   "cell_type": "code",
   "execution_count": 41,
   "metadata": {},
   "outputs": [
    {
     "data": {
      "text/html": [
       "<div>\n",
       "<style scoped>\n",
       "    .dataframe tbody tr th:only-of-type {\n",
       "        vertical-align: middle;\n",
       "    }\n",
       "\n",
       "    .dataframe tbody tr th {\n",
       "        vertical-align: top;\n",
       "    }\n",
       "\n",
       "    .dataframe thead th {\n",
       "        text-align: right;\n",
       "    }\n",
       "</style>\n",
       "<table border=\"1\" class=\"dataframe\">\n",
       "  <thead>\n",
       "    <tr style=\"text-align: right;\">\n",
       "      <th></th>\n",
       "      <th>c1</th>\n",
       "      <th>c2</th>\n",
       "      <th>c3</th>\n",
       "      <th>c4</th>\n",
       "      <th>c5</th>\n",
       "    </tr>\n",
       "  </thead>\n",
       "  <tbody>\n",
       "    <tr>\n",
       "      <th>0</th>\n",
       "      <td>1004.0</td>\n",
       "      <td>20070.0</td>\n",
       "      <td>300836.0</td>\n",
       "      <td>402747.0</td>\n",
       "      <td>5003594.0</td>\n",
       "    </tr>\n",
       "    <tr>\n",
       "      <th>1</th>\n",
       "      <td>1006.0</td>\n",
       "      <td>20095.0</td>\n",
       "      <td>300132.0</td>\n",
       "      <td>409140.0</td>\n",
       "      <td>5023001.0</td>\n",
       "    </tr>\n",
       "    <tr>\n",
       "      <th>2</th>\n",
       "      <td>1005.0</td>\n",
       "      <td>20008.0</td>\n",
       "      <td>300873.0</td>\n",
       "      <td>405428.0</td>\n",
       "      <td>5081970.0</td>\n",
       "    </tr>\n",
       "    <tr>\n",
       "      <th>3</th>\n",
       "      <td>1010.0</td>\n",
       "      <td>20060.0</td>\n",
       "      <td>300277.0</td>\n",
       "      <td>405627.0</td>\n",
       "      <td>5039388.0</td>\n",
       "    </tr>\n",
       "    <tr>\n",
       "      <th>4</th>\n",
       "      <td>1003.0</td>\n",
       "      <td>20100.0</td>\n",
       "      <td>300239.0</td>\n",
       "      <td>407371.0</td>\n",
       "      <td>5066512.0</td>\n",
       "    </tr>\n",
       "    <tr>\n",
       "      <th>5</th>\n",
       "      <td>1010.0</td>\n",
       "      <td>20038.0</td>\n",
       "      <td>300766.0</td>\n",
       "      <td>403188.0</td>\n",
       "      <td>5098561.0</td>\n",
       "    </tr>\n",
       "    <tr>\n",
       "      <th>6</th>\n",
       "      <td>1003.0</td>\n",
       "      <td>20023.0</td>\n",
       "      <td>300890.0</td>\n",
       "      <td>409039.0</td>\n",
       "      <td>5090783.0</td>\n",
       "    </tr>\n",
       "    <tr>\n",
       "      <th>7</th>\n",
       "      <td>1002.0</td>\n",
       "      <td>20088.0</td>\n",
       "      <td>300497.0</td>\n",
       "      <td>404924.0</td>\n",
       "      <td>5074565.0</td>\n",
       "    </tr>\n",
       "    <tr>\n",
       "      <th>8</th>\n",
       "      <td>1005.0</td>\n",
       "      <td>20044.0</td>\n",
       "      <td>300966.0</td>\n",
       "      <td>409202.0</td>\n",
       "      <td>5032070.0</td>\n",
       "    </tr>\n",
       "    <tr>\n",
       "      <th>9</th>\n",
       "      <td>1009.0</td>\n",
       "      <td>20083.0</td>\n",
       "      <td>300788.0</td>\n",
       "      <td>400026.0</td>\n",
       "      <td>5006488.0</td>\n",
       "    </tr>\n",
       "  </tbody>\n",
       "</table>\n",
       "</div>"
      ],
      "text/plain": [
       "       c1       c2        c3        c4         c5\n",
       "0  1004.0  20070.0  300836.0  402747.0  5003594.0\n",
       "1  1006.0  20095.0  300132.0  409140.0  5023001.0\n",
       "2  1005.0  20008.0  300873.0  405428.0  5081970.0\n",
       "3  1010.0  20060.0  300277.0  405627.0  5039388.0\n",
       "4  1003.0  20100.0  300239.0  407371.0  5066512.0\n",
       "5  1010.0  20038.0  300766.0  403188.0  5098561.0\n",
       "6  1003.0  20023.0  300890.0  409039.0  5090783.0\n",
       "7  1002.0  20088.0  300497.0  404924.0  5074565.0\n",
       "8  1005.0  20044.0  300966.0  409202.0  5032070.0\n",
       "9  1009.0  20083.0  300788.0  400026.0  5006488.0"
      ]
     },
     "execution_count": 41,
     "metadata": {},
     "output_type": "execute_result"
    }
   ],
   "source": [
    "cols=[\"c1\", \"c2\", \"c3\", \"c4\", \"c5\"]\n",
    "data = np.random.rand(100, 5) \n",
    "data *= np.array([ 10,  100, 1000, 10000, 100000]) \n",
    "data += np.array([1000, 20000, 300000, 400000, 5000000])\n",
    "data = np.ceil(data)\n",
    "df = pd.DataFrame(columns=cols, data=data)\n",
    "df.head(10)"
   ]
  },
  {
   "cell_type": "markdown",
   "metadata": {},
   "source": [
    "## Descrição dos dados "
   ]
  },
  {
   "cell_type": "markdown",
   "metadata": {},
   "source": [
    "### `describe`"
   ]
  },
  {
   "cell_type": "code",
   "execution_count": 42,
   "metadata": {},
   "outputs": [
    {
     "data": {
      "text/html": [
       "<div>\n",
       "<style scoped>\n",
       "    .dataframe tbody tr th:only-of-type {\n",
       "        vertical-align: middle;\n",
       "    }\n",
       "\n",
       "    .dataframe tbody tr th {\n",
       "        vertical-align: top;\n",
       "    }\n",
       "\n",
       "    .dataframe thead th {\n",
       "        text-align: right;\n",
       "    }\n",
       "</style>\n",
       "<table border=\"1\" class=\"dataframe\">\n",
       "  <thead>\n",
       "    <tr style=\"text-align: right;\">\n",
       "      <th></th>\n",
       "      <th>c1</th>\n",
       "      <th>c2</th>\n",
       "      <th>c3</th>\n",
       "      <th>c4</th>\n",
       "      <th>c5</th>\n",
       "    </tr>\n",
       "  </thead>\n",
       "  <tbody>\n",
       "    <tr>\n",
       "      <th>count</th>\n",
       "      <td>100.000000</td>\n",
       "      <td>100.000000</td>\n",
       "      <td>100.000000</td>\n",
       "      <td>100.000000</td>\n",
       "      <td>1.000000e+02</td>\n",
       "    </tr>\n",
       "    <tr>\n",
       "      <th>mean</th>\n",
       "      <td>1005.220000</td>\n",
       "      <td>20054.830000</td>\n",
       "      <td>300512.290000</td>\n",
       "      <td>405174.900000</td>\n",
       "      <td>5.049520e+06</td>\n",
       "    </tr>\n",
       "    <tr>\n",
       "      <th>std</th>\n",
       "      <td>2.990152</td>\n",
       "      <td>29.742007</td>\n",
       "      <td>285.995454</td>\n",
       "      <td>2698.990161</td>\n",
       "      <td>2.799068e+04</td>\n",
       "    </tr>\n",
       "    <tr>\n",
       "      <th>min</th>\n",
       "      <td>1001.000000</td>\n",
       "      <td>20001.000000</td>\n",
       "      <td>300009.000000</td>\n",
       "      <td>400009.000000</td>\n",
       "      <td>5.000014e+06</td>\n",
       "    </tr>\n",
       "    <tr>\n",
       "      <th>25%</th>\n",
       "      <td>1002.750000</td>\n",
       "      <td>20030.500000</td>\n",
       "      <td>300267.000000</td>\n",
       "      <td>403123.750000</td>\n",
       "      <td>5.028924e+06</td>\n",
       "    </tr>\n",
       "    <tr>\n",
       "      <th>50%</th>\n",
       "      <td>1005.000000</td>\n",
       "      <td>20059.000000</td>\n",
       "      <td>300538.500000</td>\n",
       "      <td>405205.000000</td>\n",
       "      <td>5.048507e+06</td>\n",
       "    </tr>\n",
       "    <tr>\n",
       "      <th>75%</th>\n",
       "      <td>1008.000000</td>\n",
       "      <td>20081.500000</td>\n",
       "      <td>300759.000000</td>\n",
       "      <td>407378.000000</td>\n",
       "      <td>5.071373e+06</td>\n",
       "    </tr>\n",
       "    <tr>\n",
       "      <th>max</th>\n",
       "      <td>1010.000000</td>\n",
       "      <td>20100.000000</td>\n",
       "      <td>300999.000000</td>\n",
       "      <td>409899.000000</td>\n",
       "      <td>5.098917e+06</td>\n",
       "    </tr>\n",
       "  </tbody>\n",
       "</table>\n",
       "</div>"
      ],
      "text/plain": [
       "                c1            c2             c3             c4            c5\n",
       "count   100.000000    100.000000     100.000000     100.000000  1.000000e+02\n",
       "mean   1005.220000  20054.830000  300512.290000  405174.900000  5.049520e+06\n",
       "std       2.990152     29.742007     285.995454    2698.990161  2.799068e+04\n",
       "min    1001.000000  20001.000000  300009.000000  400009.000000  5.000014e+06\n",
       "25%    1002.750000  20030.500000  300267.000000  403123.750000  5.028924e+06\n",
       "50%    1005.000000  20059.000000  300538.500000  405205.000000  5.048507e+06\n",
       "75%    1008.000000  20081.500000  300759.000000  407378.000000  5.071373e+06\n",
       "max    1010.000000  20100.000000  300999.000000  409899.000000  5.098917e+06"
      ]
     },
     "execution_count": 42,
     "metadata": {},
     "output_type": "execute_result"
    }
   ],
   "source": [
    "\"\"\" descrevendo as distribuições dos dados \"\"\"\n",
    "df.describe()"
   ]
  },
  {
   "cell_type": "code",
   "execution_count": 43,
   "metadata": {},
   "outputs": [
    {
     "data": {
      "text/html": [
       "<div>\n",
       "<style scoped>\n",
       "    .dataframe tbody tr th:only-of-type {\n",
       "        vertical-align: middle;\n",
       "    }\n",
       "\n",
       "    .dataframe tbody tr th {\n",
       "        vertical-align: top;\n",
       "    }\n",
       "\n",
       "    .dataframe thead th {\n",
       "        text-align: right;\n",
       "    }\n",
       "</style>\n",
       "<table border=\"1\" class=\"dataframe\">\n",
       "  <thead>\n",
       "    <tr style=\"text-align: right;\">\n",
       "      <th></th>\n",
       "      <th>c1</th>\n",
       "      <th>c2</th>\n",
       "      <th>c3</th>\n",
       "      <th>c4</th>\n",
       "      <th>c5</th>\n",
       "    </tr>\n",
       "  </thead>\n",
       "  <tbody>\n",
       "    <tr>\n",
       "      <th>count</th>\n",
       "      <td>100.000000</td>\n",
       "      <td>100.000000</td>\n",
       "      <td>100.000000</td>\n",
       "      <td>100.000000</td>\n",
       "      <td>1.000000e+02</td>\n",
       "    </tr>\n",
       "    <tr>\n",
       "      <th>mean</th>\n",
       "      <td>1005.220000</td>\n",
       "      <td>20054.830000</td>\n",
       "      <td>300512.290000</td>\n",
       "      <td>405174.900000</td>\n",
       "      <td>5.049520e+06</td>\n",
       "    </tr>\n",
       "    <tr>\n",
       "      <th>std</th>\n",
       "      <td>2.990152</td>\n",
       "      <td>29.742007</td>\n",
       "      <td>285.995454</td>\n",
       "      <td>2698.990161</td>\n",
       "      <td>2.799068e+04</td>\n",
       "    </tr>\n",
       "    <tr>\n",
       "      <th>min</th>\n",
       "      <td>1001.000000</td>\n",
       "      <td>20001.000000</td>\n",
       "      <td>300009.000000</td>\n",
       "      <td>400009.000000</td>\n",
       "      <td>5.000014e+06</td>\n",
       "    </tr>\n",
       "    <tr>\n",
       "      <th>10%</th>\n",
       "      <td>1002.000000</td>\n",
       "      <td>20008.900000</td>\n",
       "      <td>300123.600000</td>\n",
       "      <td>401659.500000</td>\n",
       "      <td>5.009311e+06</td>\n",
       "    </tr>\n",
       "    <tr>\n",
       "      <th>20%</th>\n",
       "      <td>1002.000000</td>\n",
       "      <td>20024.800000</td>\n",
       "      <td>300185.800000</td>\n",
       "      <td>402238.400000</td>\n",
       "      <td>5.021021e+06</td>\n",
       "    </tr>\n",
       "    <tr>\n",
       "      <th>30%</th>\n",
       "      <td>1003.000000</td>\n",
       "      <td>20035.400000</td>\n",
       "      <td>300326.300000</td>\n",
       "      <td>403644.100000</td>\n",
       "      <td>5.034765e+06</td>\n",
       "    </tr>\n",
       "    <tr>\n",
       "      <th>40%</th>\n",
       "      <td>1004.000000</td>\n",
       "      <td>20043.200000</td>\n",
       "      <td>300406.800000</td>\n",
       "      <td>404285.400000</td>\n",
       "      <td>5.041373e+06</td>\n",
       "    </tr>\n",
       "    <tr>\n",
       "      <th>50%</th>\n",
       "      <td>1005.000000</td>\n",
       "      <td>20059.000000</td>\n",
       "      <td>300538.500000</td>\n",
       "      <td>405205.000000</td>\n",
       "      <td>5.048507e+06</td>\n",
       "    </tr>\n",
       "    <tr>\n",
       "      <th>60%</th>\n",
       "      <td>1006.000000</td>\n",
       "      <td>20069.400000</td>\n",
       "      <td>300608.400000</td>\n",
       "      <td>406171.600000</td>\n",
       "      <td>5.060396e+06</td>\n",
       "    </tr>\n",
       "    <tr>\n",
       "      <th>70%</th>\n",
       "      <td>1007.000000</td>\n",
       "      <td>20079.300000</td>\n",
       "      <td>300711.600000</td>\n",
       "      <td>407052.800000</td>\n",
       "      <td>5.065169e+06</td>\n",
       "    </tr>\n",
       "    <tr>\n",
       "      <th>80%</th>\n",
       "      <td>1009.000000</td>\n",
       "      <td>20086.000000</td>\n",
       "      <td>300791.400000</td>\n",
       "      <td>407659.000000</td>\n",
       "      <td>5.076930e+06</td>\n",
       "    </tr>\n",
       "    <tr>\n",
       "      <th>90%</th>\n",
       "      <td>1010.000000</td>\n",
       "      <td>20093.000000</td>\n",
       "      <td>300883.700000</td>\n",
       "      <td>408935.500000</td>\n",
       "      <td>5.085904e+06</td>\n",
       "    </tr>\n",
       "    <tr>\n",
       "      <th>max</th>\n",
       "      <td>1010.000000</td>\n",
       "      <td>20100.000000</td>\n",
       "      <td>300999.000000</td>\n",
       "      <td>409899.000000</td>\n",
       "      <td>5.098917e+06</td>\n",
       "    </tr>\n",
       "  </tbody>\n",
       "</table>\n",
       "</div>"
      ],
      "text/plain": [
       "                c1            c2             c3             c4            c5\n",
       "count   100.000000    100.000000     100.000000     100.000000  1.000000e+02\n",
       "mean   1005.220000  20054.830000  300512.290000  405174.900000  5.049520e+06\n",
       "std       2.990152     29.742007     285.995454    2698.990161  2.799068e+04\n",
       "min    1001.000000  20001.000000  300009.000000  400009.000000  5.000014e+06\n",
       "10%    1002.000000  20008.900000  300123.600000  401659.500000  5.009311e+06\n",
       "20%    1002.000000  20024.800000  300185.800000  402238.400000  5.021021e+06\n",
       "30%    1003.000000  20035.400000  300326.300000  403644.100000  5.034765e+06\n",
       "40%    1004.000000  20043.200000  300406.800000  404285.400000  5.041373e+06\n",
       "50%    1005.000000  20059.000000  300538.500000  405205.000000  5.048507e+06\n",
       "60%    1006.000000  20069.400000  300608.400000  406171.600000  5.060396e+06\n",
       "70%    1007.000000  20079.300000  300711.600000  407052.800000  5.065169e+06\n",
       "80%    1009.000000  20086.000000  300791.400000  407659.000000  5.076930e+06\n",
       "90%    1010.000000  20093.000000  300883.700000  408935.500000  5.085904e+06\n",
       "max    1010.000000  20100.000000  300999.000000  409899.000000  5.098917e+06"
      ]
     },
     "execution_count": 43,
     "metadata": {},
     "output_type": "execute_result"
    }
   ],
   "source": [
    "\"\"\" mesma coisa, escolhendo os percentis ()  \"\"\"\n",
    "df.describe(percentiles=[0.1, 0.2, 0.3, 0.4, 0.5, 0.6, 0.7, 0.8, 0.9])"
   ]
  },
  {
   "cell_type": "markdown",
   "metadata": {},
   "source": [
    "### `unique`"
   ]
  },
  {
   "cell_type": "code",
   "execution_count": 44,
   "metadata": {},
   "outputs": [
    {
     "data": {
      "text/plain": [
       "array([1004., 1006., 1005., 1010., 1003., 1002., 1009., 1008., 1001.,\n",
       "       1007.])"
      ]
     },
     "execution_count": 44,
     "metadata": {},
     "output_type": "execute_result"
    }
   ],
   "source": [
    "\"\"\" Verificando os valores únicos de C1 \"\"\"\n",
    "df.c1.unique()"
   ]
  },
  {
   "cell_type": "markdown",
   "metadata": {},
   "source": [
    "### `value_counts`"
   ]
  },
  {
   "cell_type": "code",
   "execution_count": 45,
   "metadata": {},
   "outputs": [
    {
     "data": {
      "text/plain": [
       "1002.0    17\n",
       "1010.0    15\n",
       "1005.0    13\n",
       "1003.0    12\n",
       "1006.0     9\n",
       "1001.0     8\n",
       "1004.0     8\n",
       "1007.0     7\n",
       "1009.0     6\n",
       "1008.0     5\n",
       "Name: c1, dtype: int64"
      ]
     },
     "execution_count": 45,
     "metadata": {},
     "output_type": "execute_result"
    }
   ],
   "source": [
    "\"\"\" Verificando a frequencia dos valores únicos de C1 \"\"\"\n",
    "df.c1.value_counts()"
   ]
  },
  {
   "cell_type": "code",
   "execution_count": null,
   "metadata": {},
   "outputs": [],
   "source": []
  },
  {
   "cell_type": "code",
   "execution_count": null,
   "metadata": {},
   "outputs": [],
   "source": []
  }
 ],
 "metadata": {
  "kernelspec": {
   "display_name": "Python 3",
   "language": "python",
   "name": "python3"
  },
  "language_info": {
   "codemirror_mode": {
    "name": "ipython",
    "version": 3
   },
   "file_extension": ".py",
   "mimetype": "text/x-python",
   "name": "python",
   "nbconvert_exporter": "python",
   "pygments_lexer": "ipython3",
   "version": "3.6.4"
  }
 },
 "nbformat": 4,
 "nbformat_minor": 2
}
