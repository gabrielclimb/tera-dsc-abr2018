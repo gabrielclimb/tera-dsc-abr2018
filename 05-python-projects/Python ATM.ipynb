{
 "cells": [
  {
   "cell_type": "markdown",
   "metadata": {},
   "source": [
    "# Desafio em Python - ATM\n",
    "\n",
    "Um ATM (Automated Teller Machine) é o nome que se dá para caixas eletrônicos em inglês.\n",
    "\n",
    "Nosso desafio hoje será construir uma simulação de caixa eletrônico usando Python!\n",
    "\n",
    "## O que veremos hoje\n",
    "\n",
    "- Foco em Python\n",
    "- Lógica de programação\n",
    "- Funções\n",
    "- Importação de CSV com pandas\n",
    "- Procedural/Orientação a objetos\n",
    "- Separação de responsabilidades\n",
    "\n",
    "\n",
    "## O que não veremos hoje\n",
    "- Data Science\n",
    "\n",
    "![No!](https://media.giphy.com/media/T5QOxf0IRjzYQ/giphy.gif)\n",
    "\n",
    "-----"
   ]
  },
  {
   "cell_type": "markdown",
   "metadata": {},
   "source": [
    "## Lógica de programação\n",
    "\n",
    "Como podemos fritar um ovo, passo a passo?\n"
   ]
  },
  {
   "cell_type": "markdown",
   "metadata": {},
   "source": [
    "```python\n",
    "pegar_ovo()\n",
    "\n",
    "quebrar_ovo()\n",
    "\n",
    "fritar_ovo()```"
   ]
  },
  {
   "cell_type": "markdown",
   "metadata": {},
   "source": [
    "Computadores entendem o que precisam fazer através de uma série de comandos colocados em ordem. Qualquer excessão a essa regra precisa estar escrita para que ele saiba o que fazer nesses casos também."
   ]
  },
  {
   "cell_type": "markdown",
   "metadata": {},
   "source": [
    "```python\n",
    "if quantidade_de_ovos > 0:\n",
    "    pegar_ovo()\n",
    "else:\n",
    "    print('Os ovos acabaram!')\n",
    "    return\n",
    "    \n",
    "quebrar_ovo()\n",
    "\n",
    "if gema_estourou:\n",
    "    print('A gema estourou')\n",
    "else: \n",
    "    print('A gema ficou perfeita!')\n",
    "    \n",
    "fritar_ovo()\n",
    "    ```\n",
    "    \n",
    "![eggs](https://media.giphy.com/media/l2Sq5Ij6m33GyZEha/giphy.gif)"
   ]
  },
  {
   "cell_type": "markdown",
   "metadata": {},
   "source": [
    "## Funções\n",
    "\n",
    "Podemos separar blocos de código em pedaços menores usando funções. Dessa forma conseguimos reaproveitar códigos em casos que a lógica se repete."
   ]
  },
  {
   "cell_type": "markdown",
   "metadata": {},
   "source": [
    "```python\n",
    "def quebrar_ovo():\n",
    "    bater_sem_forca()\n",
    "    afastar_casca()\n",
    "    deixar_conteudo_cair()\n",
    "    jogar_casca_no_lixo()```"
   ]
  },
  {
   "cell_type": "code",
   "execution_count": 4,
   "metadata": {},
   "outputs": [
    {
     "name": "stdout",
     "output_type": "stream",
     "text": [
      "Oi, Fulano!\n"
     ]
    }
   ],
   "source": [
    "def dizer_oi(nome):\n",
    "    print('Oi, ' + nome + '!')\n",
    "    \n",
    "dizer_oi('Fulano')"
   ]
  },
  {
   "cell_type": "code",
   "execution_count": 5,
   "metadata": {},
   "outputs": [
    {
     "name": "stdout",
     "output_type": "stream",
     "text": [
      "Oi, Fulano! Você é um adestrador de dinossauros\n"
     ]
    }
   ],
   "source": [
    "def dizer_oi(nome, emprego):\n",
    "    print('Oi, {0}! Você é um {1}'.format(nome, emprego))\n",
    "    \n",
    "dizer_oi('Fulano', 'adestrador de dinossauros')"
   ]
  },
  {
   "cell_type": "markdown",
   "metadata": {},
   "source": [
    "-----\n",
    "\n",
    "## Importando CSV com Pandas\n",
    "\n",
    "- Importar o Pandas\n",
    "    \n",
    "    ```python\n",
    "    import pandas as pd```\n",
    "    \n",
    "    \n",
    "    \n",
    "- Usar a função read_csv: \n",
    "    \n",
    "    ```python\n",
    "    dados = pd.read_csv('nome_do_arquivo.csv')```\n",
    "    \n",
    "Vamos importar nosso CSV com as contas bancárias?"
   ]
  },
  {
   "cell_type": "code",
   "execution_count": 6,
   "metadata": {},
   "outputs": [
    {
     "name": "stdout",
     "output_type": "stream",
     "text": [
      "   account_number   pin  balance\n",
      "0          111111  1234     4000\n",
      "1          222222  1234      -23\n",
      "2          333333  1234      148\n"
     ]
    }
   ],
   "source": [
    "import pandas as pd\n",
    "\n",
    "dados = pd.read_csv('account_holders.csv')\n",
    "\n",
    "print(dados)"
   ]
  },
  {
   "cell_type": "markdown",
   "metadata": {},
   "source": [
    "----\n",
    "O resultado que vimos acima é uma variável do tipo \"DataFrame\". Todo dado manipulado pelo pandas é carregado dentro de um DataFrame.\n",
    "\n",
    "Podemos acessar os dados de apenas uma coluna:"
   ]
  },
  {
   "cell_type": "code",
   "execution_count": 7,
   "metadata": {},
   "outputs": [
    {
     "name": "stdout",
     "output_type": "stream",
     "text": [
      "0    111111\n",
      "1    222222\n",
      "2    333333\n",
      "Name: account_number, dtype: int64\n"
     ]
    }
   ],
   "source": [
    "print(dados['account_number'])"
   ]
  },
  {
   "cell_type": "markdown",
   "metadata": {},
   "source": [
    "----\n",
    "Ou até mesmo de uma única linha"
   ]
  },
  {
   "cell_type": "code",
   "execution_count": 8,
   "metadata": {},
   "outputs": [
    {
     "name": "stdout",
     "output_type": "stream",
     "text": [
      "111111\n"
     ]
    }
   ],
   "source": [
    "print(dados['account_number'][0])"
   ]
  },
  {
   "cell_type": "markdown",
   "metadata": {},
   "source": [
    "----\n",
    "Só precisamos tomar cuidado com tipo de dados que estamos comparando"
   ]
  },
  {
   "cell_type": "code",
   "execution_count": 9,
   "metadata": {},
   "outputs": [
    {
     "name": "stdout",
     "output_type": "stream",
     "text": [
      "True\n",
      "False\n"
     ]
    }
   ],
   "source": [
    "print(dados['account_number'][0] == 111111)\n",
    "\n",
    "print(dados['account_number'][0] == '111111')"
   ]
  },
  {
   "cell_type": "markdown",
   "metadata": {},
   "source": [
    "## Exercício 1\n",
    "\n",
    "Vamos começar nosso caixa eletrônico?\n",
    "\n",
    "Precisamos criar 3 funções:\n",
    "- obter_saldo()\n",
    "- debitar(valor)\n",
    "- creditar(valor)\n",
    "\n",
    "### Obter saldo:\n",
    "Deverá sempre retornar o valor de uma váriavel de saldo. A variável de saldo tem o valor inicial de 500\n",
    "\n",
    "### Debitar:\n",
    "Deve sempre diminuir o valor do saldo atual\n",
    "\n",
    "### Creditar:\n",
    "Deve sempre aumentar o valor ao saldo atual"
   ]
  },
  {
   "cell_type": "code",
   "execution_count": 10,
   "metadata": {},
   "outputs": [],
   "source": [
    "saldo = 500\n",
    "def obter_saldo():\n",
    "    global saldo\n",
    "    return saldo\n",
    "\n",
    "def debitar(valor):\n",
    "    global saldo\n",
    "    saldo = saldo - valor\n",
    "    \n",
    "def creditar(valor):\n",
    "    global saldo\n",
    "    saldo += valor\n"
   ]
  },
  {
   "cell_type": "code",
   "execution_count": 11,
   "metadata": {},
   "outputs": [
    {
     "name": "stdout",
     "output_type": "stream",
     "text": [
      "500 - 300 = 200\n",
      "200 + 100 = 300\n"
     ]
    }
   ],
   "source": [
    "## Teste seu código aqui\n",
    "\n",
    "debitar(300)\n",
    "\n",
    "print('500 - 300 = {0}'.format(obter_saldo()))\n",
    "\n",
    "creditar(100)\n",
    "\n",
    "print('200 + 100 = {0}'.format(obter_saldo()))"
   ]
  },
  {
   "cell_type": "markdown",
   "metadata": {},
   "source": [
    "----\n",
    "\n",
    "## Filtros no Pandas\n",
    "\n",
    "Após criarmos um DataFrame no pandas, podemos passar filtros para trabalhar só com alguns dados.\n",
    "\n"
   ]
  },
  {
   "cell_type": "code",
   "execution_count": 12,
   "metadata": {},
   "outputs": [
    {
     "name": "stdout",
     "output_type": "stream",
     "text": [
      "   account_number   pin  balance\n",
      "0          111111  1234     4000\n"
     ]
    }
   ],
   "source": [
    "nr_conta = 111111\n",
    "senha = 1234\n",
    "\n",
    "conta = dados.loc[(dados['account_number'] == nr_conta) & (dados['pin'] == senha)]\n",
    "\n",
    "print(conta)"
   ]
  },
  {
   "cell_type": "markdown",
   "metadata": {},
   "source": [
    "----\n",
    "## Exercício 2\n",
    "\n",
    "Vamos fazer uma nova função e atualizar uma antiga:\n",
    "\n",
    "- entrar(acc_number, pin)\n",
    "- obter_saldo()\n",
    "\n",
    "### Entrar:\n",
    "Devemos localizar a conta correta dos nosso CSV de acordo com os parâmetros passados e armazenar o saldo em uma variável\n",
    "\n",
    "### Obter saldo:\n",
    "Devemos retornar o saldo atual armazenado na variável da função anterior"
   ]
  },
  {
   "cell_type": "code",
   "execution_count": 13,
   "metadata": {},
   "outputs": [],
   "source": [
    "## Faça seu código aqui\n",
    "def entrar(acc_number, pin):\n",
    "    global saldo\n",
    "    global dados\n",
    "    df = dados.loc[(dados['account_number'] == acc_number) & (dados['pin'] == pin)]\n",
    "    saldo = df.iloc[0,2]\n",
    "    return saldo\n",
    "#     if (df.iloc[0,0] == acc_number) and (df.iloc[0,1] == pin):\n",
    "#         saldo = conta.iloc[0,2]\n",
    "#         return saldo"
   ]
  },
  {
   "cell_type": "code",
   "execution_count": 14,
   "metadata": {},
   "outputs": [
    {
     "name": "stdout",
     "output_type": "stream",
     "text": [
      "Fez corretamente? True\n"
     ]
    }
   ],
   "source": [
    "## Teste seu código aqui\n",
    "\n",
    "entrar(111111, 1234)\n",
    "\n",
    "print('Fez corretamente? {0}'.format(obter_saldo() == 4000))"
   ]
  },
  {
   "cell_type": "markdown",
   "metadata": {},
   "source": [
    "----\n",
    "## Orientação a objetos e separação de responsabilidades\n",
    "\n",
    "Em programação podemos separar um conjunto de instruções em objetos para utilizarmos em outros lugares.\n",
    "\n",
    "Para isso usamos as classes.\n",
    "\n",
    "Classes podem conter propriedades. Por exemplo, uma pessoa pode ter Nome, Idade, etc.\n",
    "As propriedades nada mais são do que variáveis declaradas dentro da classe.\n",
    "\n",
    "Funções dentro de classes **normalmente** são chamadas de métodos (não existe um consenso de toda a comunidade python nisso).\n",
    "\n",
    "Todo método deve ter o primeiro parâmetro como `self`, isso garante que ele consiga utilizar outros métodos e propriedades da mesma classe. Esse parâmetro é desconsiderado quando você consumir esse método."
   ]
  },
  {
   "cell_type": "code",
   "execution_count": 15,
   "metadata": {},
   "outputs": [
    {
     "name": "stdout",
     "output_type": "stream",
     "text": [
      "Prazer, me chamo Fulano\n"
     ]
    }
   ],
   "source": [
    "class Pessoa:\n",
    "    nome = ''\n",
    "    \n",
    "    def cumprimentar(self):\n",
    "        return 'Prazer, me chamo ' + self.nome\n",
    "    \n",
    "\n",
    "p = Pessoa()\n",
    "p.nome = 'Fulano'\n",
    "\n",
    "print(p.cumprimentar())"
   ]
  },
  {
   "cell_type": "markdown",
   "metadata": {},
   "source": [
    "---\n",
    "## Exercício 3 \n",
    "\n",
    "Crie uma classe de Conta que deverá conter os seguintes métodos:\n",
    "- entrar(acc_number, pin)\n",
    "- obter_saldo()\n",
    "- debitar(valor)\n",
    "- creditar(valor)"
   ]
  },
  {
   "cell_type": "code",
   "execution_count": 16,
   "metadata": {},
   "outputs": [],
   "source": [
    "## Faça seu código aqui\n",
    "class Conta:\n",
    "    dados = pd.read_csv('account_holders.csv')\n",
    "    saldo = 0\n",
    "    \n",
    "    def obter_saldo(self):\n",
    "         return self.saldo\n",
    "    \n",
    "    def debitar(self, valor):\n",
    "        self.saldo = self.saldo - valor \n",
    "    \n",
    "    def creditar(self, valor):\n",
    "        self.saldo = self.saldo + valor\n",
    "        \n",
    "    def entrar(self, acc_number, pin):\n",
    "        df = self.dados.loc[(self.dados['account_number'] == acc_number) & (self.dados['pin'] == pin)]\n",
    "        self.saldo = df.iloc[0,2]\n",
    "        \n",
    "        "
   ]
  },
  {
   "cell_type": "code",
   "execution_count": 17,
   "metadata": {},
   "outputs": [
    {
     "name": "stdout",
     "output_type": "stream",
     "text": [
      "Tô rico? True\n",
      "Perdi tudo? True\n"
     ]
    }
   ],
   "source": [
    "## Teste seu código aqui\n",
    "\n",
    "minha_conta = Conta()\n",
    "minha_conta.entrar(111111, 1234)\n",
    "\n",
    "minha_conta.creditar(10000)\n",
    "\n",
    "print('Tô rico? {0}'.format(minha_conta.obter_saldo() == 14000))\n",
    "\n",
    "minha_conta.debitar(13900)\n",
    "\n",
    "print('Perdi tudo? {0}'.format(minha_conta.obter_saldo() == 100))"
   ]
  },
  {
   "cell_type": "markdown",
   "metadata": {},
   "source": [
    "----\n",
    "## Obtendo o input do usuário"
   ]
  },
  {
   "cell_type": "code",
   "execution_count": 18,
   "metadata": {
    "scrolled": true
   },
   "outputs": [
    {
     "name": "stdout",
     "output_type": "stream",
     "text": [
      "Qual seu nome? sjs\n",
      "Oi, sjs! Você é um s\n"
     ]
    }
   ],
   "source": [
    "nome = input('Qual seu nome? ')\n",
    "\n",
    "dizer_oi(nome, 's')"
   ]
  },
  {
   "cell_type": "markdown",
   "metadata": {},
   "source": [
    "## Exercício 4\n",
    "\n",
    "Crie uma classe de CaixaEletronico que deverá conter os seguintes métodos:\n",
    "\n",
    "- ligar()\n",
    "- depositar(valor)\n",
    "- sacar(valor)\n",
    "\n",
    "### Ligar:\n",
    "Nosso caixa deverá ligar e pedir os dados de número da conta e senha do cliente. Feito isso ele deverá usar o método login da sua propriedade conta para deixar os dados prontos\n",
    "\n",
    "### Depositar:\n",
    "O caixa tem que pedir para que o usuário digite o valor que será depositado, em seguida usar o método creditar da propriedade conta\n",
    "\n",
    "### Sacar:\n",
    "O caixa tem que pedir para que o usuário digite o valor que será sacado, em seguida usar o método debitar da propriedade conta"
   ]
  },
  {
   "cell_type": "code",
   "execution_count": 30,
   "metadata": {},
   "outputs": [],
   "source": [
    "## Faça seu código aqui\n",
    "class CaixaEletronico:\n",
    "    conta = Conta()   \n",
    "    \n",
    "    def ligar(self):\n",
    "        acc_number = input('Qual sua conta?')\n",
    "        pin = input('Qual a sua senha?')\n",
    "        self.conta.entrar(int(acc_number), int(pin))\n",
    "        \n",
    "    def depositar(self, valor):\n",
    "        self.conta.creditar(valor)\n",
    "        \n",
    "    def sacar(self, valor):\n",
    "        self.conta.debitar(valor)\n",
    "    \n",
    "    def saldo(self):\n",
    "        return self.conta.obter_saldo()"
   ]
  },
  {
   "cell_type": "code",
   "execution_count": 34,
   "metadata": {},
   "outputs": [
    {
     "name": "stdout",
     "output_type": "stream",
     "text": [
      "Qual sua conta?111111\n",
      "Qual a sua senha?1234\n",
      "4000\n"
     ]
    }
   ],
   "source": [
    "## Teste seu código aqui\n",
    "\n",
    "atm = CaixaEletronico()\n",
    "atm.ligar()\n",
    "print(atm.saldo())"
   ]
  },
  {
   "cell_type": "markdown",
   "metadata": {},
   "source": [
    "## Parabéns!\n",
    "\n",
    "Você conseguiu! :D\n",
    "\n",
    "![congrats](https://media.giphy.com/media/aLdiZJmmx4OVW/giphy.gif)"
   ]
  }
 ],
 "metadata": {
  "kernelspec": {
   "display_name": "Python 3",
   "language": "python",
   "name": "python3"
  },
  "language_info": {
   "codemirror_mode": {
    "name": "ipython",
    "version": 3
   },
   "file_extension": ".py",
   "mimetype": "text/x-python",
   "name": "python",
   "nbconvert_exporter": "python",
   "pygments_lexer": "ipython3",
   "version": "3.6.4"
  }
 },
 "nbformat": 4,
 "nbformat_minor": 2
}
